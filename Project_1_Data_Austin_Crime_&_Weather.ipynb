{
  "nbformat": 4,
  "nbformat_minor": 0,
  "metadata": {
    "colab": {
      "name": "Project 1 Data Austin Crime & Weather.ipynb",
      "version": "0.3.2",
      "provenance": [],
      "include_colab_link": true
    },
    "kernelspec": {
      "name": "python3",
      "display_name": "Python 3"
    }
  },
  "cells": [
    {
      "cell_type": "markdown",
      "metadata": {
        "id": "view-in-github",
        "colab_type": "text"
      },
      "source": [
        "<a href=\"https://colab.research.google.com/github/JoshFowlkes/JoshFowlkes.github.io/blob/master/Project_1_Data_Austin_Crime_%26_Weather.ipynb\" target=\"_parent\"><img src=\"https://colab.research.google.com/assets/colab-badge.svg\" alt=\"Open In Colab\"/></a>"
      ]
    },
    {
      "cell_type": "markdown",
      "metadata": {
        "id": "4hgOthKLgLyD",
        "colab_type": "text"
      },
      "source": [
        "# Does the old addage that hotter weather equates to higher likelihood of commiting a crime really hold merit in the real world?"
      ]
    },
    {
      "cell_type": "code",
      "metadata": {
        "id": "ECa5jZ9W41mK",
        "colab_type": "code",
        "colab": {}
      },
      "source": [
        "import pandas as pd\n"
      ],
      "execution_count": 0,
      "outputs": []
    },
    {
      "cell_type": "code",
      "metadata": {
        "id": "jUUSyRHRfR1g",
        "colab_type": "code",
        "outputId": "94b1d9e1-7b1a-422d-e9b2-1de183690c53",
        "colab": {
          "resources": {
            "http://localhost:8080/nbextensions/google.colab/files.js": {
              "data": "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",
              "ok": true,
              "headers": [
                [
                  "content-type",
                  "application/javascript"
                ]
              ],
              "status": 200,
              "status_text": ""
            }
          },
          "base_uri": "https://localhost:8080/",
          "height": 70
        }
      },
      "source": [
        "from google.colab import files\n",
        "uploaded = files.upload()"
      ],
      "execution_count": 6,
      "outputs": [
        {
          "output_type": "display_data",
          "data": {
            "text/html": [
              "\n",
              "     <input type=\"file\" id=\"files-440cc5ae-41e4-4acc-9200-9707e7a747a6\" name=\"files[]\" multiple disabled />\n",
              "     <output id=\"result-440cc5ae-41e4-4acc-9200-9707e7a747a6\">\n",
              "      Upload widget is only available when the cell has been executed in the\n",
              "      current browser session. Please rerun this cell to enable.\n",
              "      </output>\n",
              "      <script src=\"/nbextensions/google.colab/files.js\"></script> "
            ],
            "text/plain": [
              "<IPython.core.display.HTML object>"
            ]
          },
          "metadata": {
            "tags": []
          }
        },
        {
          "output_type": "stream",
          "text": [
            "Saving austin_weather.csv to austin_weather.csv\n"
          ],
          "name": "stdout"
        }
      ]
    },
    {
      "cell_type": "code",
      "metadata": {
        "id": "n3EqUAqLg3cI",
        "colab_type": "code",
        "outputId": "cd167d0f-b86a-42e5-bf21-b9990783c766",
        "colab": {
          "base_uri": "https://localhost:8080/",
          "height": 531
        }
      },
      "source": [
        "weather_df = pd.read_csv('austin_weather.csv')\n",
        "weather_df.head(10)"
      ],
      "execution_count": 7,
      "outputs": [
        {
          "output_type": "execute_result",
          "data": {
            "text/html": [
              "<div>\n",
              "<style scoped>\n",
              "    .dataframe tbody tr th:only-of-type {\n",
              "        vertical-align: middle;\n",
              "    }\n",
              "\n",
              "    .dataframe tbody tr th {\n",
              "        vertical-align: top;\n",
              "    }\n",
              "\n",
              "    .dataframe thead th {\n",
              "        text-align: right;\n",
              "    }\n",
              "</style>\n",
              "<table border=\"1\" class=\"dataframe\">\n",
              "  <thead>\n",
              "    <tr style=\"text-align: right;\">\n",
              "      <th></th>\n",
              "      <th>Date</th>\n",
              "      <th>TempHighF</th>\n",
              "      <th>TempAvgF</th>\n",
              "      <th>TempLowF</th>\n",
              "      <th>DewPointHighF</th>\n",
              "      <th>DewPointAvgF</th>\n",
              "      <th>DewPointLowF</th>\n",
              "      <th>HumidityHighPercent</th>\n",
              "      <th>HumidityAvgPercent</th>\n",
              "      <th>HumidityLowPercent</th>\n",
              "      <th>SeaLevelPressureHighInches</th>\n",
              "      <th>SeaLevelPressureAvgInches</th>\n",
              "      <th>SeaLevelPressureLowInches</th>\n",
              "      <th>VisibilityHighMiles</th>\n",
              "      <th>VisibilityAvgMiles</th>\n",
              "      <th>VisibilityLowMiles</th>\n",
              "      <th>WindHighMPH</th>\n",
              "      <th>WindAvgMPH</th>\n",
              "      <th>WindGustMPH</th>\n",
              "      <th>PrecipitationSumInches</th>\n",
              "      <th>Events</th>\n",
              "    </tr>\n",
              "  </thead>\n",
              "  <tbody>\n",
              "    <tr>\n",
              "      <th>0</th>\n",
              "      <td>2013-12-21</td>\n",
              "      <td>74</td>\n",
              "      <td>60</td>\n",
              "      <td>45</td>\n",
              "      <td>67</td>\n",
              "      <td>49</td>\n",
              "      <td>43</td>\n",
              "      <td>93</td>\n",
              "      <td>75</td>\n",
              "      <td>57</td>\n",
              "      <td>29.86</td>\n",
              "      <td>29.68</td>\n",
              "      <td>29.59</td>\n",
              "      <td>10</td>\n",
              "      <td>7</td>\n",
              "      <td>2</td>\n",
              "      <td>20</td>\n",
              "      <td>4</td>\n",
              "      <td>31</td>\n",
              "      <td>0.46</td>\n",
              "      <td>Rain , Thunderstorm</td>\n",
              "    </tr>\n",
              "    <tr>\n",
              "      <th>1</th>\n",
              "      <td>2013-12-22</td>\n",
              "      <td>56</td>\n",
              "      <td>48</td>\n",
              "      <td>39</td>\n",
              "      <td>43</td>\n",
              "      <td>36</td>\n",
              "      <td>28</td>\n",
              "      <td>93</td>\n",
              "      <td>68</td>\n",
              "      <td>43</td>\n",
              "      <td>30.41</td>\n",
              "      <td>30.13</td>\n",
              "      <td>29.87</td>\n",
              "      <td>10</td>\n",
              "      <td>10</td>\n",
              "      <td>5</td>\n",
              "      <td>16</td>\n",
              "      <td>6</td>\n",
              "      <td>25</td>\n",
              "      <td>0</td>\n",
              "      <td></td>\n",
              "    </tr>\n",
              "    <tr>\n",
              "      <th>2</th>\n",
              "      <td>2013-12-23</td>\n",
              "      <td>58</td>\n",
              "      <td>45</td>\n",
              "      <td>32</td>\n",
              "      <td>31</td>\n",
              "      <td>27</td>\n",
              "      <td>23</td>\n",
              "      <td>76</td>\n",
              "      <td>52</td>\n",
              "      <td>27</td>\n",
              "      <td>30.56</td>\n",
              "      <td>30.49</td>\n",
              "      <td>30.41</td>\n",
              "      <td>10</td>\n",
              "      <td>10</td>\n",
              "      <td>10</td>\n",
              "      <td>8</td>\n",
              "      <td>3</td>\n",
              "      <td>12</td>\n",
              "      <td>0</td>\n",
              "      <td></td>\n",
              "    </tr>\n",
              "    <tr>\n",
              "      <th>3</th>\n",
              "      <td>2013-12-24</td>\n",
              "      <td>61</td>\n",
              "      <td>46</td>\n",
              "      <td>31</td>\n",
              "      <td>36</td>\n",
              "      <td>28</td>\n",
              "      <td>21</td>\n",
              "      <td>89</td>\n",
              "      <td>56</td>\n",
              "      <td>22</td>\n",
              "      <td>30.56</td>\n",
              "      <td>30.45</td>\n",
              "      <td>30.3</td>\n",
              "      <td>10</td>\n",
              "      <td>10</td>\n",
              "      <td>7</td>\n",
              "      <td>12</td>\n",
              "      <td>4</td>\n",
              "      <td>20</td>\n",
              "      <td>0</td>\n",
              "      <td></td>\n",
              "    </tr>\n",
              "    <tr>\n",
              "      <th>4</th>\n",
              "      <td>2013-12-25</td>\n",
              "      <td>58</td>\n",
              "      <td>50</td>\n",
              "      <td>41</td>\n",
              "      <td>44</td>\n",
              "      <td>40</td>\n",
              "      <td>36</td>\n",
              "      <td>86</td>\n",
              "      <td>71</td>\n",
              "      <td>56</td>\n",
              "      <td>30.41</td>\n",
              "      <td>30.33</td>\n",
              "      <td>30.27</td>\n",
              "      <td>10</td>\n",
              "      <td>10</td>\n",
              "      <td>7</td>\n",
              "      <td>10</td>\n",
              "      <td>2</td>\n",
              "      <td>16</td>\n",
              "      <td>T</td>\n",
              "      <td></td>\n",
              "    </tr>\n",
              "    <tr>\n",
              "      <th>5</th>\n",
              "      <td>2013-12-26</td>\n",
              "      <td>57</td>\n",
              "      <td>48</td>\n",
              "      <td>39</td>\n",
              "      <td>39</td>\n",
              "      <td>36</td>\n",
              "      <td>33</td>\n",
              "      <td>79</td>\n",
              "      <td>63</td>\n",
              "      <td>47</td>\n",
              "      <td>30.47</td>\n",
              "      <td>30.4</td>\n",
              "      <td>30.34</td>\n",
              "      <td>10</td>\n",
              "      <td>9</td>\n",
              "      <td>7</td>\n",
              "      <td>12</td>\n",
              "      <td>3</td>\n",
              "      <td>17</td>\n",
              "      <td>0</td>\n",
              "      <td></td>\n",
              "    </tr>\n",
              "    <tr>\n",
              "      <th>6</th>\n",
              "      <td>2013-12-27</td>\n",
              "      <td>60</td>\n",
              "      <td>53</td>\n",
              "      <td>45</td>\n",
              "      <td>41</td>\n",
              "      <td>39</td>\n",
              "      <td>37</td>\n",
              "      <td>83</td>\n",
              "      <td>65</td>\n",
              "      <td>47</td>\n",
              "      <td>30.46</td>\n",
              "      <td>30.39</td>\n",
              "      <td>30.34</td>\n",
              "      <td>10</td>\n",
              "      <td>9</td>\n",
              "      <td>7</td>\n",
              "      <td>7</td>\n",
              "      <td>1</td>\n",
              "      <td>11</td>\n",
              "      <td>T</td>\n",
              "      <td></td>\n",
              "    </tr>\n",
              "    <tr>\n",
              "      <th>7</th>\n",
              "      <td>2013-12-28</td>\n",
              "      <td>62</td>\n",
              "      <td>51</td>\n",
              "      <td>40</td>\n",
              "      <td>43</td>\n",
              "      <td>39</td>\n",
              "      <td>33</td>\n",
              "      <td>92</td>\n",
              "      <td>64</td>\n",
              "      <td>36</td>\n",
              "      <td>30.33</td>\n",
              "      <td>30.17</td>\n",
              "      <td>30.04</td>\n",
              "      <td>10</td>\n",
              "      <td>10</td>\n",
              "      <td>7</td>\n",
              "      <td>10</td>\n",
              "      <td>2</td>\n",
              "      <td>14</td>\n",
              "      <td>T</td>\n",
              "      <td></td>\n",
              "    </tr>\n",
              "    <tr>\n",
              "      <th>8</th>\n",
              "      <td>2013-12-29</td>\n",
              "      <td>64</td>\n",
              "      <td>50</td>\n",
              "      <td>36</td>\n",
              "      <td>49</td>\n",
              "      <td>41</td>\n",
              "      <td>28</td>\n",
              "      <td>92</td>\n",
              "      <td>76</td>\n",
              "      <td>60</td>\n",
              "      <td>30.31</td>\n",
              "      <td>30.1</td>\n",
              "      <td>29.99</td>\n",
              "      <td>10</td>\n",
              "      <td>10</td>\n",
              "      <td>4</td>\n",
              "      <td>17</td>\n",
              "      <td>5</td>\n",
              "      <td>24</td>\n",
              "      <td>0</td>\n",
              "      <td></td>\n",
              "    </tr>\n",
              "    <tr>\n",
              "      <th>9</th>\n",
              "      <td>2013-12-30</td>\n",
              "      <td>44</td>\n",
              "      <td>40</td>\n",
              "      <td>35</td>\n",
              "      <td>31</td>\n",
              "      <td>26</td>\n",
              "      <td>21</td>\n",
              "      <td>75</td>\n",
              "      <td>60</td>\n",
              "      <td>45</td>\n",
              "      <td>30.44</td>\n",
              "      <td>30.33</td>\n",
              "      <td>30.26</td>\n",
              "      <td>10</td>\n",
              "      <td>10</td>\n",
              "      <td>10</td>\n",
              "      <td>13</td>\n",
              "      <td>5</td>\n",
              "      <td>21</td>\n",
              "      <td>0</td>\n",
              "      <td></td>\n",
              "    </tr>\n",
              "  </tbody>\n",
              "</table>\n",
              "</div>"
            ],
            "text/plain": [
              "         Date  TempHighF  ...  PrecipitationSumInches               Events\n",
              "0  2013-12-21         74  ...                    0.46  Rain , Thunderstorm\n",
              "1  2013-12-22         56  ...                       0                     \n",
              "2  2013-12-23         58  ...                       0                     \n",
              "3  2013-12-24         61  ...                       0                     \n",
              "4  2013-12-25         58  ...                       T                     \n",
              "5  2013-12-26         57  ...                       0                     \n",
              "6  2013-12-27         60  ...                       T                     \n",
              "7  2013-12-28         62  ...                       T                     \n",
              "8  2013-12-29         64  ...                       0                     \n",
              "9  2013-12-30         44  ...                       0                     \n",
              "\n",
              "[10 rows x 21 columns]"
            ]
          },
          "metadata": {
            "tags": []
          },
          "execution_count": 7
        }
      ]
    },
    {
      "cell_type": "code",
      "metadata": {
        "id": "LXzKLBoOjATD",
        "colab_type": "code",
        "colab": {}
      },
      "source": [
        "weather_df = weather_df.drop(columns={'DewPointHighF', 'DewPointAvgF', 'DewPointLowF', 'HumidityHighPercent', \n",
        "                              'HumidityLowPercent', 'SeaLevelPressureHighInches', 'SeaLevelPressureAvgInches',\n",
        "                             'SeaLevelPressureLowInches', 'VisibilityHighMiles', 'VisibilityAvgMiles',\n",
        "                             'VisibilityLowMiles', 'WindHighMPH', 'WindGustMPH', 'PrecipitationSumInches', 'Events'})"
      ],
      "execution_count": 0,
      "outputs": []
    },
    {
      "cell_type": "code",
      "metadata": {
        "id": "xZr1OF3Uj0c1",
        "colab_type": "code",
        "outputId": "21e6e51d-1634-4965-d772-84fbec2a31c0",
        "colab": {
          "base_uri": "https://localhost:8080/",
          "height": 195
        }
      },
      "source": [
        "weather_df.head()"
      ],
      "execution_count": 9,
      "outputs": [
        {
          "output_type": "execute_result",
          "data": {
            "text/html": [
              "<div>\n",
              "<style scoped>\n",
              "    .dataframe tbody tr th:only-of-type {\n",
              "        vertical-align: middle;\n",
              "    }\n",
              "\n",
              "    .dataframe tbody tr th {\n",
              "        vertical-align: top;\n",
              "    }\n",
              "\n",
              "    .dataframe thead th {\n",
              "        text-align: right;\n",
              "    }\n",
              "</style>\n",
              "<table border=\"1\" class=\"dataframe\">\n",
              "  <thead>\n",
              "    <tr style=\"text-align: right;\">\n",
              "      <th></th>\n",
              "      <th>Date</th>\n",
              "      <th>TempHighF</th>\n",
              "      <th>TempAvgF</th>\n",
              "      <th>TempLowF</th>\n",
              "      <th>HumidityAvgPercent</th>\n",
              "      <th>WindAvgMPH</th>\n",
              "    </tr>\n",
              "  </thead>\n",
              "  <tbody>\n",
              "    <tr>\n",
              "      <th>0</th>\n",
              "      <td>2013-12-21</td>\n",
              "      <td>74</td>\n",
              "      <td>60</td>\n",
              "      <td>45</td>\n",
              "      <td>75</td>\n",
              "      <td>4</td>\n",
              "    </tr>\n",
              "    <tr>\n",
              "      <th>1</th>\n",
              "      <td>2013-12-22</td>\n",
              "      <td>56</td>\n",
              "      <td>48</td>\n",
              "      <td>39</td>\n",
              "      <td>68</td>\n",
              "      <td>6</td>\n",
              "    </tr>\n",
              "    <tr>\n",
              "      <th>2</th>\n",
              "      <td>2013-12-23</td>\n",
              "      <td>58</td>\n",
              "      <td>45</td>\n",
              "      <td>32</td>\n",
              "      <td>52</td>\n",
              "      <td>3</td>\n",
              "    </tr>\n",
              "    <tr>\n",
              "      <th>3</th>\n",
              "      <td>2013-12-24</td>\n",
              "      <td>61</td>\n",
              "      <td>46</td>\n",
              "      <td>31</td>\n",
              "      <td>56</td>\n",
              "      <td>4</td>\n",
              "    </tr>\n",
              "    <tr>\n",
              "      <th>4</th>\n",
              "      <td>2013-12-25</td>\n",
              "      <td>58</td>\n",
              "      <td>50</td>\n",
              "      <td>41</td>\n",
              "      <td>71</td>\n",
              "      <td>2</td>\n",
              "    </tr>\n",
              "  </tbody>\n",
              "</table>\n",
              "</div>"
            ],
            "text/plain": [
              "         Date  TempHighF  TempAvgF  TempLowF HumidityAvgPercent WindAvgMPH\n",
              "0  2013-12-21         74        60        45                 75          4\n",
              "1  2013-12-22         56        48        39                 68          6\n",
              "2  2013-12-23         58        45        32                 52          3\n",
              "3  2013-12-24         61        46        31                 56          4\n",
              "4  2013-12-25         58        50        41                 71          2"
            ]
          },
          "metadata": {
            "tags": []
          },
          "execution_count": 9
        }
      ]
    },
    {
      "cell_type": "code",
      "metadata": {
        "id": "_4ojeGCThU-q",
        "colab_type": "code",
        "outputId": "452fa9f4-4e00-4163-c92d-426429eebe24",
        "colab": {
          "resources": {
            "http://localhost:8080/nbextensions/google.colab/files.js": {
              "data": "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",
              "ok": true,
              "headers": [
                [
                  "content-type",
                  "application/javascript"
                ]
              ],
              "status": 200,
              "status_text": ""
            }
          },
          "base_uri": "https://localhost:8080/",
          "height": 70
        }
      },
      "source": [
        "from google.colab import files\n",
        "uploaded = files.upload()"
      ],
      "execution_count": 10,
      "outputs": [
        {
          "output_type": "display_data",
          "data": {
            "text/html": [
              "\n",
              "     <input type=\"file\" id=\"files-d3898feb-cf32-475f-9a1b-3ae2aaa4ba09\" name=\"files[]\" multiple disabled />\n",
              "     <output id=\"result-d3898feb-cf32-475f-9a1b-3ae2aaa4ba09\">\n",
              "      Upload widget is only available when the cell has been executed in the\n",
              "      current browser session. Please rerun this cell to enable.\n",
              "      </output>\n",
              "      <script src=\"/nbextensions/google.colab/files.js\"></script> "
            ],
            "text/plain": [
              "<IPython.core.display.HTML object>"
            ]
          },
          "metadata": {
            "tags": []
          }
        },
        {
          "output_type": "stream",
          "text": [
            "Saving austin_crime.csv to austin_crime.csv\n"
          ],
          "name": "stdout"
        }
      ]
    },
    {
      "cell_type": "code",
      "metadata": {
        "id": "1oAkZPKTiUPf",
        "colab_type": "code",
        "outputId": "00bca60c-1b6b-4702-b7d3-e4f643d4e2ff",
        "colab": {
          "base_uri": "https://localhost:8080/",
          "height": 366
        }
      },
      "source": [
        "crime_df = pd.read_csv('austin_crime.csv')\n",
        "crime_df.head(5)"
      ],
      "execution_count": 12,
      "outputs": [
        {
          "output_type": "execute_result",
          "data": {
            "text/html": [
              "<div>\n",
              "<style scoped>\n",
              "    .dataframe tbody tr th:only-of-type {\n",
              "        vertical-align: middle;\n",
              "    }\n",
              "\n",
              "    .dataframe tbody tr th {\n",
              "        vertical-align: top;\n",
              "    }\n",
              "\n",
              "    .dataframe thead th {\n",
              "        text-align: right;\n",
              "    }\n",
              "</style>\n",
              "<table border=\"1\" class=\"dataframe\">\n",
              "  <thead>\n",
              "    <tr style=\"text-align: right;\">\n",
              "      <th></th>\n",
              "      <th>address</th>\n",
              "      <th>census_tract</th>\n",
              "      <th>clearance_date</th>\n",
              "      <th>clearance_status</th>\n",
              "      <th>council_district_code</th>\n",
              "      <th>description</th>\n",
              "      <th>district</th>\n",
              "      <th>latitude</th>\n",
              "      <th>location</th>\n",
              "      <th>location_description</th>\n",
              "      <th>longitude</th>\n",
              "      <th>primary_type</th>\n",
              "      <th>timestamp</th>\n",
              "      <th>unique_key</th>\n",
              "      <th>x_coordinate</th>\n",
              "      <th>y_coordinate</th>\n",
              "      <th>year</th>\n",
              "      <th>zipcode</th>\n",
              "    </tr>\n",
              "  </thead>\n",
              "  <tbody>\n",
              "    <tr>\n",
              "      <th>0</th>\n",
              "      <td>2620 RIO GRANDE ST Austin TX 78705</td>\n",
              "      <td>6.03</td>\n",
              "      <td>2015-12-14 00:00:00</td>\n",
              "      <td>Not cleared</td>\n",
              "      <td>9.0</td>\n",
              "      <td>THEFT</td>\n",
              "      <td>B</td>\n",
              "      <td>NaN</td>\n",
              "      <td>NaN</td>\n",
              "      <td>2620 RIO GRANDE ST</td>\n",
              "      <td>NaN</td>\n",
              "      <td>Theft</td>\n",
              "      <td>2015-12-13 00:00:00</td>\n",
              "      <td>2.015505e+10</td>\n",
              "      <td>3113531.0</td>\n",
              "      <td>10079579.0</td>\n",
              "      <td>2015.0</td>\n",
              "      <td>78705.0</td>\n",
              "    </tr>\n",
              "    <tr>\n",
              "      <th>1</th>\n",
              "      <td>9500 S IH 35 SVRD SB Austin TX 78748</td>\n",
              "      <td>24.21</td>\n",
              "      <td>2015-09-14 00:00:00</td>\n",
              "      <td>Cleared by Arrest</td>\n",
              "      <td>5.0</td>\n",
              "      <td>THEFT BY SHOPLIFTING</td>\n",
              "      <td>F</td>\n",
              "      <td>NaN</td>\n",
              "      <td>NaN</td>\n",
              "      <td>9500 S IH 35 SVRD SB</td>\n",
              "      <td>NaN</td>\n",
              "      <td>Theft</td>\n",
              "      <td>2015-09-03 00:00:00</td>\n",
              "      <td>2.015246e+10</td>\n",
              "      <td>3099459.0</td>\n",
              "      <td>10032098.0</td>\n",
              "      <td>2015.0</td>\n",
              "      <td>78748.0</td>\n",
              "    </tr>\n",
              "    <tr>\n",
              "      <th>2</th>\n",
              "      <td>1000 E 41ST ST</td>\n",
              "      <td>NaN</td>\n",
              "      <td>NaN</td>\n",
              "      <td>NaN</td>\n",
              "      <td>NaN</td>\n",
              "      <td>NaN</td>\n",
              "      <td>NaN</td>\n",
              "      <td>NaN</td>\n",
              "      <td>NaN</td>\n",
              "      <td>NaN</td>\n",
              "      <td>NaN</td>\n",
              "      <td>NaN</td>\n",
              "      <td>NaN</td>\n",
              "      <td>NaN</td>\n",
              "      <td>NaN</td>\n",
              "      <td>NaN</td>\n",
              "      <td>NaN</td>\n",
              "      <td>NaN</td>\n",
              "    </tr>\n",
              "    <tr>\n",
              "      <th>3</th>\n",
              "      <td>Austin TX 78751</td>\n",
              "      <td>NaN</td>\n",
              "      <td>NaN</td>\n",
              "      <td>NaN</td>\n",
              "      <td>NaN</td>\n",
              "      <td>NaN</td>\n",
              "      <td>NaN</td>\n",
              "      <td>NaN</td>\n",
              "      <td>NaN</td>\n",
              "      <td>NaN</td>\n",
              "      <td>NaN</td>\n",
              "      <td>NaN</td>\n",
              "      <td>NaN</td>\n",
              "      <td>NaN</td>\n",
              "      <td>NaN</td>\n",
              "      <td>NaN</td>\n",
              "      <td>NaN</td>\n",
              "      <td>NaN</td>\n",
              "    </tr>\n",
              "    <tr>\n",
              "      <th>4</th>\n",
              "      <td>(30.298356 -97.719647)</td>\n",
              "      <td>3.02</td>\n",
              "      <td>2014-07-29 00:00:00</td>\n",
              "      <td>Cleared by Arrest</td>\n",
              "      <td>9.0</td>\n",
              "      <td>THEFT BY SHOPLIFTING</td>\n",
              "      <td>B</td>\n",
              "      <td>30.298356</td>\n",
              "      <td>(30.298356-97.719647)</td>\n",
              "      <td>1000 E 41ST ST</td>\n",
              "      <td>-97.719647</td>\n",
              "      <td>Theft: Shoplifting</td>\n",
              "      <td>2014-04-04 00:00:00</td>\n",
              "      <td>2.014941e+09</td>\n",
              "      <td>3121345.0</td>\n",
              "      <td>10082705.0</td>\n",
              "      <td>2014.0</td>\n",
              "      <td>78751.0</td>\n",
              "    </tr>\n",
              "  </tbody>\n",
              "</table>\n",
              "</div>"
            ],
            "text/plain": [
              "                                address census_tract  ...    year  zipcode\n",
              "0    2620 RIO GRANDE ST Austin TX 78705         6.03  ...  2015.0  78705.0\n",
              "1  9500 S IH 35 SVRD SB Austin TX 78748        24.21  ...  2015.0  78748.0\n",
              "2                        1000 E 41ST ST          NaN  ...     NaN      NaN\n",
              "3                       Austin TX 78751          NaN  ...     NaN      NaN\n",
              "4                (30.298356 -97.719647)         3.02  ...  2014.0  78751.0\n",
              "\n",
              "[5 rows x 18 columns]"
            ]
          },
          "metadata": {
            "tags": []
          },
          "execution_count": 12
        }
      ]
    },
    {
      "cell_type": "code",
      "metadata": {
        "id": "mz3iY2xoi5Q3",
        "colab_type": "code",
        "colab": {}
      },
      "source": [
        "crime_df = crime_df.drop(columns = {'address', 'census_tract', 'clearance_date', 'clearance_status', 'council_district_code',\n",
        "                                    'district', 'latitude', 'location', 'location_description', 'longitude',\n",
        "                                   'primary_type', 'unique_key', 'x_coordinate', 'y_coordinate', 'zipcode' })\n",
        "\n"
      ],
      "execution_count": 0,
      "outputs": []
    },
    {
      "cell_type": "code",
      "metadata": {
        "id": "QfWwU3r7kpg6",
        "colab_type": "code",
        "colab": {}
      },
      "source": [
        "crime_df = crime_df.dropna()"
      ],
      "execution_count": 0,
      "outputs": []
    },
    {
      "cell_type": "code",
      "metadata": {
        "id": "nH_F1LuclZ9O",
        "colab_type": "code",
        "outputId": "012578ef-8dcb-4e0a-ec55-086404e7e2fb",
        "colab": {
          "base_uri": "https://localhost:8080/",
          "height": 195
        }
      },
      "source": [
        "crime_df.head()"
      ],
      "execution_count": 15,
      "outputs": [
        {
          "output_type": "execute_result",
          "data": {
            "text/html": [
              "<div>\n",
              "<style scoped>\n",
              "    .dataframe tbody tr th:only-of-type {\n",
              "        vertical-align: middle;\n",
              "    }\n",
              "\n",
              "    .dataframe tbody tr th {\n",
              "        vertical-align: top;\n",
              "    }\n",
              "\n",
              "    .dataframe thead th {\n",
              "        text-align: right;\n",
              "    }\n",
              "</style>\n",
              "<table border=\"1\" class=\"dataframe\">\n",
              "  <thead>\n",
              "    <tr style=\"text-align: right;\">\n",
              "      <th></th>\n",
              "      <th>description</th>\n",
              "      <th>timestamp</th>\n",
              "      <th>year</th>\n",
              "    </tr>\n",
              "  </thead>\n",
              "  <tbody>\n",
              "    <tr>\n",
              "      <th>0</th>\n",
              "      <td>THEFT</td>\n",
              "      <td>2015-12-13 00:00:00</td>\n",
              "      <td>2015.0</td>\n",
              "    </tr>\n",
              "    <tr>\n",
              "      <th>1</th>\n",
              "      <td>THEFT BY SHOPLIFTING</td>\n",
              "      <td>2015-09-03 00:00:00</td>\n",
              "      <td>2015.0</td>\n",
              "    </tr>\n",
              "    <tr>\n",
              "      <th>4</th>\n",
              "      <td>THEFT BY SHOPLIFTING</td>\n",
              "      <td>2014-04-04 00:00:00</td>\n",
              "      <td>2014.0</td>\n",
              "    </tr>\n",
              "    <tr>\n",
              "      <th>5</th>\n",
              "      <td>THEFT BY SHOPLIFTING</td>\n",
              "      <td>2015-01-02 00:00:00</td>\n",
              "      <td>2015.0</td>\n",
              "    </tr>\n",
              "    <tr>\n",
              "      <th>6</th>\n",
              "      <td>BURGLARY OF VEHICLE</td>\n",
              "      <td>2015-07-28 00:00:00</td>\n",
              "      <td>2015.0</td>\n",
              "    </tr>\n",
              "  </tbody>\n",
              "</table>\n",
              "</div>"
            ],
            "text/plain": [
              "            description            timestamp    year\n",
              "0                 THEFT  2015-12-13 00:00:00  2015.0\n",
              "1  THEFT BY SHOPLIFTING  2015-09-03 00:00:00  2015.0\n",
              "4  THEFT BY SHOPLIFTING  2014-04-04 00:00:00  2014.0\n",
              "5  THEFT BY SHOPLIFTING  2015-01-02 00:00:00  2015.0\n",
              "6   BURGLARY OF VEHICLE  2015-07-28 00:00:00  2015.0"
            ]
          },
          "metadata": {
            "tags": []
          },
          "execution_count": 15
        }
      ]
    },
    {
      "cell_type": "code",
      "metadata": {
        "id": "zNN2DmLWCzwA",
        "colab_type": "code",
        "colab": {
          "base_uri": "https://localhost:8080/",
          "height": 1000
        },
        "outputId": "d499e1d0-a15f-4a0b-a27f-d956646967a6"
      },
      "source": [
        "crime_df['timestamp'].value_counts()"
      ],
      "execution_count": 16,
      "outputs": [
        {
          "output_type": "execute_result",
          "data": {
            "text/plain": [
              "2015-07-24 00:00:00    160\n",
              "2015-08-03 00:00:00    159\n",
              "2015-12-21 00:00:00    153\n",
              "2014-10-13 00:00:00    152\n",
              "2015-02-02 00:00:00    151\n",
              "2015-09-14 00:00:00    151\n",
              "2015-07-21 00:00:00    150\n",
              "2015-08-17 00:00:00    148\n",
              "2015-05-18 00:00:00    148\n",
              "2015-06-30 00:00:00    145\n",
              "2015-07-28 00:00:00    144\n",
              "2015-06-25 00:00:00    144\n",
              "2015-01-14 00:00:00    143\n",
              "2014-05-19 00:00:00    142\n",
              "2015-08-31 00:00:00    139\n",
              "2015-12-07 00:00:00    139\n",
              "2015-11-10 00:00:00    139\n",
              "2015-12-14 00:00:00    138\n",
              "2014-08-05 00:00:00    138\n",
              "2014-07-14 00:00:00    138\n",
              "2015-03-17 00:00:00    137\n",
              "2015-07-13 00:00:00    137\n",
              "2015-01-12 00:00:00    136\n",
              "2015-11-09 00:00:00    136\n",
              "2015-05-04 00:00:00    136\n",
              "2015-01-06 00:00:00    136\n",
              "2015-09-21 00:00:00    135\n",
              "2015-11-23 00:00:00    134\n",
              "2015-05-06 00:00:00    134\n",
              "2015-08-07 00:00:00    134\n",
              "                      ... \n",
              "2015-01-17 00:00:00     67\n",
              "2014-06-08 00:00:00     67\n",
              "2015-01-11 00:00:00     66\n",
              "2014-11-30 00:00:00     66\n",
              "2015-02-27 00:00:00     66\n",
              "2015-08-15 00:00:00     66\n",
              "2015-10-04 00:00:00     66\n",
              "2014-10-19 00:00:00     66\n",
              "2015-01-24 00:00:00     66\n",
              "2014-05-17 00:00:00     66\n",
              "2014-04-20 00:00:00     65\n",
              "2014-09-20 00:00:00     64\n",
              "2014-12-24 00:00:00     64\n",
              "2014-06-07 00:00:00     64\n",
              "2014-12-26 00:00:00     63\n",
              "2015-11-08 00:00:00     62\n",
              "2014-12-06 00:00:00     62\n",
              "2014-06-01 00:00:00     62\n",
              "2014-05-04 00:00:00     61\n",
              "2014-01-28 00:00:00     61\n",
              "2015-11-26 00:00:00     60\n",
              "2014-09-13 00:00:00     59\n",
              "2014-03-02 00:00:00     59\n",
              "2015-10-17 00:00:00     58\n",
              "2015-10-24 00:00:00     55\n",
              "2015-12-25 00:00:00     55\n",
              "2014-03-09 00:00:00     54\n",
              "2014-11-27 00:00:00     52\n",
              "2015-02-28 00:00:00     45\n",
              "2014-12-25 00:00:00     34\n",
              "Name: timestamp, Length: 730, dtype: int64"
            ]
          },
          "metadata": {
            "tags": []
          },
          "execution_count": 16
        }
      ]
    },
    {
      "cell_type": "code",
      "metadata": {
        "id": "_tHyxbQskq3C",
        "colab_type": "code",
        "outputId": "64d62a77-4f43-461d-dce0-8a7dfa3c9a91",
        "colab": {
          "base_uri": "https://localhost:8080/",
          "height": 195
        }
      },
      "source": [
        "weather_df.head(5)"
      ],
      "execution_count": 17,
      "outputs": [
        {
          "output_type": "execute_result",
          "data": {
            "text/html": [
              "<div>\n",
              "<style scoped>\n",
              "    .dataframe tbody tr th:only-of-type {\n",
              "        vertical-align: middle;\n",
              "    }\n",
              "\n",
              "    .dataframe tbody tr th {\n",
              "        vertical-align: top;\n",
              "    }\n",
              "\n",
              "    .dataframe thead th {\n",
              "        text-align: right;\n",
              "    }\n",
              "</style>\n",
              "<table border=\"1\" class=\"dataframe\">\n",
              "  <thead>\n",
              "    <tr style=\"text-align: right;\">\n",
              "      <th></th>\n",
              "      <th>Date</th>\n",
              "      <th>TempHighF</th>\n",
              "      <th>TempAvgF</th>\n",
              "      <th>TempLowF</th>\n",
              "      <th>HumidityAvgPercent</th>\n",
              "      <th>WindAvgMPH</th>\n",
              "    </tr>\n",
              "  </thead>\n",
              "  <tbody>\n",
              "    <tr>\n",
              "      <th>0</th>\n",
              "      <td>2013-12-21</td>\n",
              "      <td>74</td>\n",
              "      <td>60</td>\n",
              "      <td>45</td>\n",
              "      <td>75</td>\n",
              "      <td>4</td>\n",
              "    </tr>\n",
              "    <tr>\n",
              "      <th>1</th>\n",
              "      <td>2013-12-22</td>\n",
              "      <td>56</td>\n",
              "      <td>48</td>\n",
              "      <td>39</td>\n",
              "      <td>68</td>\n",
              "      <td>6</td>\n",
              "    </tr>\n",
              "    <tr>\n",
              "      <th>2</th>\n",
              "      <td>2013-12-23</td>\n",
              "      <td>58</td>\n",
              "      <td>45</td>\n",
              "      <td>32</td>\n",
              "      <td>52</td>\n",
              "      <td>3</td>\n",
              "    </tr>\n",
              "    <tr>\n",
              "      <th>3</th>\n",
              "      <td>2013-12-24</td>\n",
              "      <td>61</td>\n",
              "      <td>46</td>\n",
              "      <td>31</td>\n",
              "      <td>56</td>\n",
              "      <td>4</td>\n",
              "    </tr>\n",
              "    <tr>\n",
              "      <th>4</th>\n",
              "      <td>2013-12-25</td>\n",
              "      <td>58</td>\n",
              "      <td>50</td>\n",
              "      <td>41</td>\n",
              "      <td>71</td>\n",
              "      <td>2</td>\n",
              "    </tr>\n",
              "  </tbody>\n",
              "</table>\n",
              "</div>"
            ],
            "text/plain": [
              "         Date  TempHighF  TempAvgF  TempLowF HumidityAvgPercent WindAvgMPH\n",
              "0  2013-12-21         74        60        45                 75          4\n",
              "1  2013-12-22         56        48        39                 68          6\n",
              "2  2013-12-23         58        45        32                 52          3\n",
              "3  2013-12-24         61        46        31                 56          4\n",
              "4  2013-12-25         58        50        41                 71          2"
            ]
          },
          "metadata": {
            "tags": []
          },
          "execution_count": 17
        }
      ]
    },
    {
      "cell_type": "code",
      "metadata": {
        "id": "qbdDubHwkyDP",
        "colab_type": "code",
        "outputId": "cb7f5776-28d2-4e98-da3f-ce7fe090c656",
        "colab": {
          "base_uri": "https://localhost:8080/",
          "height": 195
        }
      },
      "source": [
        "crime_df = crime_df.sort_values(by='timestamp', ascending=True)\n",
        "crime_df.head(5)"
      ],
      "execution_count": 18,
      "outputs": [
        {
          "output_type": "execute_result",
          "data": {
            "text/html": [
              "<div>\n",
              "<style scoped>\n",
              "    .dataframe tbody tr th:only-of-type {\n",
              "        vertical-align: middle;\n",
              "    }\n",
              "\n",
              "    .dataframe tbody tr th {\n",
              "        vertical-align: top;\n",
              "    }\n",
              "\n",
              "    .dataframe thead th {\n",
              "        text-align: right;\n",
              "    }\n",
              "</style>\n",
              "<table border=\"1\" class=\"dataframe\">\n",
              "  <thead>\n",
              "    <tr style=\"text-align: right;\">\n",
              "      <th></th>\n",
              "      <th>description</th>\n",
              "      <th>timestamp</th>\n",
              "      <th>year</th>\n",
              "    </tr>\n",
              "  </thead>\n",
              "  <tbody>\n",
              "    <tr>\n",
              "      <th>137343</th>\n",
              "      <td>THEFT FROM AUTO</td>\n",
              "      <td>2014-01-01 00:00:00</td>\n",
              "      <td>2014.0</td>\n",
              "    </tr>\n",
              "    <tr>\n",
              "      <th>129269</th>\n",
              "      <td>BURGLARY OF VEHICLE</td>\n",
              "      <td>2014-01-01 00:00:00</td>\n",
              "      <td>2014.0</td>\n",
              "    </tr>\n",
              "    <tr>\n",
              "      <th>34477</th>\n",
              "      <td>DEADLY CONDUCT</td>\n",
              "      <td>2014-01-01 00:00:00</td>\n",
              "      <td>2014.0</td>\n",
              "    </tr>\n",
              "    <tr>\n",
              "      <th>50032</th>\n",
              "      <td>BURGLARY OF VEHICLE</td>\n",
              "      <td>2014-01-01 00:00:00</td>\n",
              "      <td>2014.0</td>\n",
              "    </tr>\n",
              "    <tr>\n",
              "      <th>120171</th>\n",
              "      <td>THEFT</td>\n",
              "      <td>2014-01-01 00:00:00</td>\n",
              "      <td>2014.0</td>\n",
              "    </tr>\n",
              "  </tbody>\n",
              "</table>\n",
              "</div>"
            ],
            "text/plain": [
              "                description            timestamp    year\n",
              "137343      THEFT FROM AUTO  2014-01-01 00:00:00  2014.0\n",
              "129269  BURGLARY OF VEHICLE  2014-01-01 00:00:00  2014.0\n",
              "34477        DEADLY CONDUCT  2014-01-01 00:00:00  2014.0\n",
              "50032   BURGLARY OF VEHICLE  2014-01-01 00:00:00  2014.0\n",
              "120171                THEFT  2014-01-01 00:00:00  2014.0"
            ]
          },
          "metadata": {
            "tags": []
          },
          "execution_count": 18
        }
      ]
    },
    {
      "cell_type": "code",
      "metadata": {
        "id": "9LWwzTtRl-3W",
        "colab_type": "code",
        "colab": {}
      },
      "source": [
        "# getting front end to 2014 jan 1\n",
        "weather_df = weather_df.iloc[11:]"
      ],
      "execution_count": 0,
      "outputs": []
    },
    {
      "cell_type": "code",
      "metadata": {
        "id": "gWoroY5PoVjh",
        "colab_type": "code",
        "colab": {}
      },
      "source": [
        "# getting back end to 2015 dec 31\n",
        "weather_df = weather_df.iloc[:-578]"
      ],
      "execution_count": 0,
      "outputs": []
    },
    {
      "cell_type": "code",
      "metadata": {
        "id": "45ICPKcqnRmb",
        "colab_type": "code",
        "outputId": "1ae7643c-9f50-4cfa-d8bf-d4ac3f0a1a67",
        "colab": {
          "base_uri": "https://localhost:8080/",
          "height": 195
        }
      },
      "source": [
        "weather_df.tail(5)"
      ],
      "execution_count": 21,
      "outputs": [
        {
          "output_type": "execute_result",
          "data": {
            "text/html": [
              "<div>\n",
              "<style scoped>\n",
              "    .dataframe tbody tr th:only-of-type {\n",
              "        vertical-align: middle;\n",
              "    }\n",
              "\n",
              "    .dataframe tbody tr th {\n",
              "        vertical-align: top;\n",
              "    }\n",
              "\n",
              "    .dataframe thead th {\n",
              "        text-align: right;\n",
              "    }\n",
              "</style>\n",
              "<table border=\"1\" class=\"dataframe\">\n",
              "  <thead>\n",
              "    <tr style=\"text-align: right;\">\n",
              "      <th></th>\n",
              "      <th>Date</th>\n",
              "      <th>TempHighF</th>\n",
              "      <th>TempAvgF</th>\n",
              "      <th>TempLowF</th>\n",
              "      <th>HumidityAvgPercent</th>\n",
              "      <th>WindAvgMPH</th>\n",
              "    </tr>\n",
              "  </thead>\n",
              "  <tbody>\n",
              "    <tr>\n",
              "      <th>736</th>\n",
              "      <td>2015-12-27</td>\n",
              "      <td>73</td>\n",
              "      <td>55</td>\n",
              "      <td>36</td>\n",
              "      <td>89</td>\n",
              "      <td>10</td>\n",
              "    </tr>\n",
              "    <tr>\n",
              "      <th>737</th>\n",
              "      <td>2015-12-28</td>\n",
              "      <td>46</td>\n",
              "      <td>41</td>\n",
              "      <td>36</td>\n",
              "      <td>75</td>\n",
              "      <td>8</td>\n",
              "    </tr>\n",
              "    <tr>\n",
              "      <th>738</th>\n",
              "      <td>2015-12-29</td>\n",
              "      <td>49</td>\n",
              "      <td>43</td>\n",
              "      <td>37</td>\n",
              "      <td>74</td>\n",
              "      <td>3</td>\n",
              "    </tr>\n",
              "    <tr>\n",
              "      <th>739</th>\n",
              "      <td>2015-12-30</td>\n",
              "      <td>57</td>\n",
              "      <td>49</td>\n",
              "      <td>41</td>\n",
              "      <td>80</td>\n",
              "      <td>4</td>\n",
              "    </tr>\n",
              "    <tr>\n",
              "      <th>740</th>\n",
              "      <td>2015-12-31</td>\n",
              "      <td>53</td>\n",
              "      <td>46</td>\n",
              "      <td>39</td>\n",
              "      <td>78</td>\n",
              "      <td>6</td>\n",
              "    </tr>\n",
              "  </tbody>\n",
              "</table>\n",
              "</div>"
            ],
            "text/plain": [
              "           Date  TempHighF  TempAvgF  TempLowF HumidityAvgPercent WindAvgMPH\n",
              "736  2015-12-27         73        55        36                 89         10\n",
              "737  2015-12-28         46        41        36                 75          8\n",
              "738  2015-12-29         49        43        37                 74          3\n",
              "739  2015-12-30         57        49        41                 80          4\n",
              "740  2015-12-31         53        46        39                 78          6"
            ]
          },
          "metadata": {
            "tags": []
          },
          "execution_count": 21
        }
      ]
    },
    {
      "cell_type": "code",
      "metadata": {
        "id": "w9tR6oK3nnF7",
        "colab_type": "code",
        "outputId": "e5ed4ad4-4585-4635-e0b7-5613dca7c26a",
        "colab": {
          "base_uri": "https://localhost:8080/",
          "height": 195
        }
      },
      "source": [
        "# boom boom all dates are equal on both sides\n",
        "crime_df.tail()"
      ],
      "execution_count": 22,
      "outputs": [
        {
          "output_type": "execute_result",
          "data": {
            "text/html": [
              "<div>\n",
              "<style scoped>\n",
              "    .dataframe tbody tr th:only-of-type {\n",
              "        vertical-align: middle;\n",
              "    }\n",
              "\n",
              "    .dataframe tbody tr th {\n",
              "        vertical-align: top;\n",
              "    }\n",
              "\n",
              "    .dataframe thead th {\n",
              "        text-align: right;\n",
              "    }\n",
              "</style>\n",
              "<table border=\"1\" class=\"dataframe\">\n",
              "  <thead>\n",
              "    <tr style=\"text-align: right;\">\n",
              "      <th></th>\n",
              "      <th>description</th>\n",
              "      <th>timestamp</th>\n",
              "      <th>year</th>\n",
              "    </tr>\n",
              "  </thead>\n",
              "  <tbody>\n",
              "    <tr>\n",
              "      <th>10278</th>\n",
              "      <td>BURGLARY OF RESIDENCE</td>\n",
              "      <td>2015-12-31 00:00:00</td>\n",
              "      <td>2015.0</td>\n",
              "    </tr>\n",
              "    <tr>\n",
              "      <th>92479</th>\n",
              "      <td>THEFT BY SHOPLIFTING</td>\n",
              "      <td>2015-12-31 00:00:00</td>\n",
              "      <td>2015.0</td>\n",
              "    </tr>\n",
              "    <tr>\n",
              "      <th>3138</th>\n",
              "      <td>AGG ASSAULT</td>\n",
              "      <td>2015-12-31 00:00:00</td>\n",
              "      <td>2015.0</td>\n",
              "    </tr>\n",
              "    <tr>\n",
              "      <th>120663</th>\n",
              "      <td>BURGLARY OF VEHICLE</td>\n",
              "      <td>2015-12-31 00:00:00</td>\n",
              "      <td>2015.0</td>\n",
              "    </tr>\n",
              "    <tr>\n",
              "      <th>146242</th>\n",
              "      <td>THEFT</td>\n",
              "      <td>2015-12-31 00:00:00</td>\n",
              "      <td>2015.0</td>\n",
              "    </tr>\n",
              "  </tbody>\n",
              "</table>\n",
              "</div>"
            ],
            "text/plain": [
              "                  description            timestamp    year\n",
              "10278   BURGLARY OF RESIDENCE  2015-12-31 00:00:00  2015.0\n",
              "92479    THEFT BY SHOPLIFTING  2015-12-31 00:00:00  2015.0\n",
              "3138              AGG ASSAULT  2015-12-31 00:00:00  2015.0\n",
              "120663    BURGLARY OF VEHICLE  2015-12-31 00:00:00  2015.0\n",
              "146242                  THEFT  2015-12-31 00:00:00  2015.0"
            ]
          },
          "metadata": {
            "tags": []
          },
          "execution_count": 22
        }
      ]
    },
    {
      "cell_type": "code",
      "metadata": {
        "id": "fd0ragoroM-U",
        "colab_type": "code",
        "colab": {}
      },
      "source": [
        "crime_df = crime_df.rename(columns = {'timestamp' : 'Date'})"
      ],
      "execution_count": 0,
      "outputs": []
    },
    {
      "cell_type": "code",
      "metadata": {
        "id": "tu7BGJYvp8gE",
        "colab_type": "code",
        "outputId": "cd942462-aff5-4a91-8f4f-581ad3cc9fd7",
        "colab": {
          "base_uri": "https://localhost:8080/",
          "height": 195
        }
      },
      "source": [
        "crime_df.head()"
      ],
      "execution_count": 24,
      "outputs": [
        {
          "output_type": "execute_result",
          "data": {
            "text/html": [
              "<div>\n",
              "<style scoped>\n",
              "    .dataframe tbody tr th:only-of-type {\n",
              "        vertical-align: middle;\n",
              "    }\n",
              "\n",
              "    .dataframe tbody tr th {\n",
              "        vertical-align: top;\n",
              "    }\n",
              "\n",
              "    .dataframe thead th {\n",
              "        text-align: right;\n",
              "    }\n",
              "</style>\n",
              "<table border=\"1\" class=\"dataframe\">\n",
              "  <thead>\n",
              "    <tr style=\"text-align: right;\">\n",
              "      <th></th>\n",
              "      <th>description</th>\n",
              "      <th>Date</th>\n",
              "      <th>year</th>\n",
              "    </tr>\n",
              "  </thead>\n",
              "  <tbody>\n",
              "    <tr>\n",
              "      <th>137343</th>\n",
              "      <td>THEFT FROM AUTO</td>\n",
              "      <td>2014-01-01 00:00:00</td>\n",
              "      <td>2014.0</td>\n",
              "    </tr>\n",
              "    <tr>\n",
              "      <th>129269</th>\n",
              "      <td>BURGLARY OF VEHICLE</td>\n",
              "      <td>2014-01-01 00:00:00</td>\n",
              "      <td>2014.0</td>\n",
              "    </tr>\n",
              "    <tr>\n",
              "      <th>34477</th>\n",
              "      <td>DEADLY CONDUCT</td>\n",
              "      <td>2014-01-01 00:00:00</td>\n",
              "      <td>2014.0</td>\n",
              "    </tr>\n",
              "    <tr>\n",
              "      <th>50032</th>\n",
              "      <td>BURGLARY OF VEHICLE</td>\n",
              "      <td>2014-01-01 00:00:00</td>\n",
              "      <td>2014.0</td>\n",
              "    </tr>\n",
              "    <tr>\n",
              "      <th>120171</th>\n",
              "      <td>THEFT</td>\n",
              "      <td>2014-01-01 00:00:00</td>\n",
              "      <td>2014.0</td>\n",
              "    </tr>\n",
              "  </tbody>\n",
              "</table>\n",
              "</div>"
            ],
            "text/plain": [
              "                description                 Date    year\n",
              "137343      THEFT FROM AUTO  2014-01-01 00:00:00  2014.0\n",
              "129269  BURGLARY OF VEHICLE  2014-01-01 00:00:00  2014.0\n",
              "34477        DEADLY CONDUCT  2014-01-01 00:00:00  2014.0\n",
              "50032   BURGLARY OF VEHICLE  2014-01-01 00:00:00  2014.0\n",
              "120171                THEFT  2014-01-01 00:00:00  2014.0"
            ]
          },
          "metadata": {
            "tags": []
          },
          "execution_count": 24
        }
      ]
    },
    {
      "cell_type": "code",
      "metadata": {
        "id": "--eKjTbKqlRT",
        "colab_type": "code",
        "outputId": "0b829839-ef12-405a-a6df-260f46b60e7a",
        "colab": {
          "base_uri": "https://localhost:8080/",
          "height": 195
        }
      },
      "source": [
        "weather_df.head()"
      ],
      "execution_count": 25,
      "outputs": [
        {
          "output_type": "execute_result",
          "data": {
            "text/html": [
              "<div>\n",
              "<style scoped>\n",
              "    .dataframe tbody tr th:only-of-type {\n",
              "        vertical-align: middle;\n",
              "    }\n",
              "\n",
              "    .dataframe tbody tr th {\n",
              "        vertical-align: top;\n",
              "    }\n",
              "\n",
              "    .dataframe thead th {\n",
              "        text-align: right;\n",
              "    }\n",
              "</style>\n",
              "<table border=\"1\" class=\"dataframe\">\n",
              "  <thead>\n",
              "    <tr style=\"text-align: right;\">\n",
              "      <th></th>\n",
              "      <th>Date</th>\n",
              "      <th>TempHighF</th>\n",
              "      <th>TempAvgF</th>\n",
              "      <th>TempLowF</th>\n",
              "      <th>HumidityAvgPercent</th>\n",
              "      <th>WindAvgMPH</th>\n",
              "    </tr>\n",
              "  </thead>\n",
              "  <tbody>\n",
              "    <tr>\n",
              "      <th>11</th>\n",
              "      <td>2014-01-01</td>\n",
              "      <td>69</td>\n",
              "      <td>54</td>\n",
              "      <td>39</td>\n",
              "      <td>68</td>\n",
              "      <td>4</td>\n",
              "    </tr>\n",
              "    <tr>\n",
              "      <th>12</th>\n",
              "      <td>2014-01-02</td>\n",
              "      <td>55</td>\n",
              "      <td>44</td>\n",
              "      <td>33</td>\n",
              "      <td>55</td>\n",
              "      <td>8</td>\n",
              "    </tr>\n",
              "    <tr>\n",
              "      <th>13</th>\n",
              "      <td>2014-01-03</td>\n",
              "      <td>58</td>\n",
              "      <td>43</td>\n",
              "      <td>28</td>\n",
              "      <td>49</td>\n",
              "      <td>4</td>\n",
              "    </tr>\n",
              "    <tr>\n",
              "      <th>14</th>\n",
              "      <td>2014-01-04</td>\n",
              "      <td>71</td>\n",
              "      <td>57</td>\n",
              "      <td>42</td>\n",
              "      <td>68</td>\n",
              "      <td>7</td>\n",
              "    </tr>\n",
              "    <tr>\n",
              "      <th>15</th>\n",
              "      <td>2014-01-05</td>\n",
              "      <td>59</td>\n",
              "      <td>47</td>\n",
              "      <td>34</td>\n",
              "      <td>59</td>\n",
              "      <td>10</td>\n",
              "    </tr>\n",
              "  </tbody>\n",
              "</table>\n",
              "</div>"
            ],
            "text/plain": [
              "          Date  TempHighF  TempAvgF  TempLowF HumidityAvgPercent WindAvgMPH\n",
              "11  2014-01-01         69        54        39                 68          4\n",
              "12  2014-01-02         55        44        33                 55          8\n",
              "13  2014-01-03         58        43        28                 49          4\n",
              "14  2014-01-04         71        57        42                 68          7\n",
              "15  2014-01-05         59        47        34                 59         10"
            ]
          },
          "metadata": {
            "tags": []
          },
          "execution_count": 25
        }
      ]
    },
    {
      "cell_type": "code",
      "metadata": {
        "id": "06CFI394gCfj",
        "colab_type": "code",
        "colab": {}
      },
      "source": [
        "crime_df_copy = crime_df"
      ],
      "execution_count": 0,
      "outputs": []
    },
    {
      "cell_type": "code",
      "metadata": {
        "id": "aJ44CFDsfxte",
        "colab_type": "code",
        "colab": {}
      },
      "source": [
        "crime_df_copy['Date'] = crime_df['Date'].map(lambda x: x.lstrip('00:00:00').rstrip(' 00:00:00'))"
      ],
      "execution_count": 0,
      "outputs": []
    },
    {
      "cell_type": "code",
      "metadata": {
        "id": "zgH9Sp56fxxR",
        "colab_type": "code",
        "colab": {
          "base_uri": "https://localhost:8080/",
          "height": 195
        },
        "outputId": "0b7537f3-2f06-4819-b4f5-0940239b107c"
      },
      "source": [
        "crime_df_copy.head()"
      ],
      "execution_count": 28,
      "outputs": [
        {
          "output_type": "execute_result",
          "data": {
            "text/html": [
              "<div>\n",
              "<style scoped>\n",
              "    .dataframe tbody tr th:only-of-type {\n",
              "        vertical-align: middle;\n",
              "    }\n",
              "\n",
              "    .dataframe tbody tr th {\n",
              "        vertical-align: top;\n",
              "    }\n",
              "\n",
              "    .dataframe thead th {\n",
              "        text-align: right;\n",
              "    }\n",
              "</style>\n",
              "<table border=\"1\" class=\"dataframe\">\n",
              "  <thead>\n",
              "    <tr style=\"text-align: right;\">\n",
              "      <th></th>\n",
              "      <th>description</th>\n",
              "      <th>Date</th>\n",
              "      <th>year</th>\n",
              "    </tr>\n",
              "  </thead>\n",
              "  <tbody>\n",
              "    <tr>\n",
              "      <th>137343</th>\n",
              "      <td>THEFT FROM AUTO</td>\n",
              "      <td>2014-01-01</td>\n",
              "      <td>2014.0</td>\n",
              "    </tr>\n",
              "    <tr>\n",
              "      <th>129269</th>\n",
              "      <td>BURGLARY OF VEHICLE</td>\n",
              "      <td>2014-01-01</td>\n",
              "      <td>2014.0</td>\n",
              "    </tr>\n",
              "    <tr>\n",
              "      <th>34477</th>\n",
              "      <td>DEADLY CONDUCT</td>\n",
              "      <td>2014-01-01</td>\n",
              "      <td>2014.0</td>\n",
              "    </tr>\n",
              "    <tr>\n",
              "      <th>50032</th>\n",
              "      <td>BURGLARY OF VEHICLE</td>\n",
              "      <td>2014-01-01</td>\n",
              "      <td>2014.0</td>\n",
              "    </tr>\n",
              "    <tr>\n",
              "      <th>120171</th>\n",
              "      <td>THEFT</td>\n",
              "      <td>2014-01-01</td>\n",
              "      <td>2014.0</td>\n",
              "    </tr>\n",
              "  </tbody>\n",
              "</table>\n",
              "</div>"
            ],
            "text/plain": [
              "                description        Date    year\n",
              "137343      THEFT FROM AUTO  2014-01-01  2014.0\n",
              "129269  BURGLARY OF VEHICLE  2014-01-01  2014.0\n",
              "34477        DEADLY CONDUCT  2014-01-01  2014.0\n",
              "50032   BURGLARY OF VEHICLE  2014-01-01  2014.0\n",
              "120171                THEFT  2014-01-01  2014.0"
            ]
          },
          "metadata": {
            "tags": []
          },
          "execution_count": 28
        }
      ]
    },
    {
      "cell_type": "code",
      "metadata": {
        "id": "l-opjVWcf1_I",
        "colab_type": "code",
        "colab": {}
      },
      "source": [
        "crime_df = crime_df_copy"
      ],
      "execution_count": 0,
      "outputs": []
    },
    {
      "cell_type": "code",
      "metadata": {
        "id": "1bokD-PPs_na",
        "colab_type": "code",
        "colab": {}
      },
      "source": [
        "merged = pd.merge(crime_df, weather_df, how='inner')"
      ],
      "execution_count": 0,
      "outputs": []
    },
    {
      "cell_type": "code",
      "metadata": {
        "id": "FVscmFKStJjk",
        "colab_type": "code",
        "outputId": "0a88220d-8581-4124-dec2-c538ce0b9042",
        "colab": {
          "base_uri": "https://localhost:8080/",
          "height": 1000
        }
      },
      "source": [
        "\n",
        "print(merged.shape)\n",
        "merged.head(10000)"
      ],
      "execution_count": 31,
      "outputs": [
        {
          "output_type": "stream",
          "text": [
            "(66591, 8)\n"
          ],
          "name": "stdout"
        },
        {
          "output_type": "execute_result",
          "data": {
            "text/html": [
              "<div>\n",
              "<style scoped>\n",
              "    .dataframe tbody tr th:only-of-type {\n",
              "        vertical-align: middle;\n",
              "    }\n",
              "\n",
              "    .dataframe tbody tr th {\n",
              "        vertical-align: top;\n",
              "    }\n",
              "\n",
              "    .dataframe thead th {\n",
              "        text-align: right;\n",
              "    }\n",
              "</style>\n",
              "<table border=\"1\" class=\"dataframe\">\n",
              "  <thead>\n",
              "    <tr style=\"text-align: right;\">\n",
              "      <th></th>\n",
              "      <th>description</th>\n",
              "      <th>Date</th>\n",
              "      <th>year</th>\n",
              "      <th>TempHighF</th>\n",
              "      <th>TempAvgF</th>\n",
              "      <th>TempLowF</th>\n",
              "      <th>HumidityAvgPercent</th>\n",
              "      <th>WindAvgMPH</th>\n",
              "    </tr>\n",
              "  </thead>\n",
              "  <tbody>\n",
              "    <tr>\n",
              "      <th>0</th>\n",
              "      <td>THEFT FROM AUTO</td>\n",
              "      <td>2014-01-01</td>\n",
              "      <td>2014.0</td>\n",
              "      <td>69</td>\n",
              "      <td>54</td>\n",
              "      <td>39</td>\n",
              "      <td>68</td>\n",
              "      <td>4</td>\n",
              "    </tr>\n",
              "    <tr>\n",
              "      <th>1</th>\n",
              "      <td>BURGLARY OF VEHICLE</td>\n",
              "      <td>2014-01-01</td>\n",
              "      <td>2014.0</td>\n",
              "      <td>69</td>\n",
              "      <td>54</td>\n",
              "      <td>39</td>\n",
              "      <td>68</td>\n",
              "      <td>4</td>\n",
              "    </tr>\n",
              "    <tr>\n",
              "      <th>2</th>\n",
              "      <td>DEADLY CONDUCT</td>\n",
              "      <td>2014-01-01</td>\n",
              "      <td>2014.0</td>\n",
              "      <td>69</td>\n",
              "      <td>54</td>\n",
              "      <td>39</td>\n",
              "      <td>68</td>\n",
              "      <td>4</td>\n",
              "    </tr>\n",
              "    <tr>\n",
              "      <th>3</th>\n",
              "      <td>BURGLARY OF VEHICLE</td>\n",
              "      <td>2014-01-01</td>\n",
              "      <td>2014.0</td>\n",
              "      <td>69</td>\n",
              "      <td>54</td>\n",
              "      <td>39</td>\n",
              "      <td>68</td>\n",
              "      <td>4</td>\n",
              "    </tr>\n",
              "    <tr>\n",
              "      <th>4</th>\n",
              "      <td>THEFT</td>\n",
              "      <td>2014-01-01</td>\n",
              "      <td>2014.0</td>\n",
              "      <td>69</td>\n",
              "      <td>54</td>\n",
              "      <td>39</td>\n",
              "      <td>68</td>\n",
              "      <td>4</td>\n",
              "    </tr>\n",
              "    <tr>\n",
              "      <th>5</th>\n",
              "      <td>AGG ASSAULT WITH MOTOR VEH</td>\n",
              "      <td>2014-01-01</td>\n",
              "      <td>2014.0</td>\n",
              "      <td>69</td>\n",
              "      <td>54</td>\n",
              "      <td>39</td>\n",
              "      <td>68</td>\n",
              "      <td>4</td>\n",
              "    </tr>\n",
              "    <tr>\n",
              "      <th>6</th>\n",
              "      <td>THEFT</td>\n",
              "      <td>2014-01-01</td>\n",
              "      <td>2014.0</td>\n",
              "      <td>69</td>\n",
              "      <td>54</td>\n",
              "      <td>39</td>\n",
              "      <td>68</td>\n",
              "      <td>4</td>\n",
              "    </tr>\n",
              "    <tr>\n",
              "      <th>7</th>\n",
              "      <td>BURGLARY OF VEHICLE</td>\n",
              "      <td>2014-01-01</td>\n",
              "      <td>2014.0</td>\n",
              "      <td>69</td>\n",
              "      <td>54</td>\n",
              "      <td>39</td>\n",
              "      <td>68</td>\n",
              "      <td>4</td>\n",
              "    </tr>\n",
              "    <tr>\n",
              "      <th>8</th>\n",
              "      <td>THEFT OF AUTO PARTS</td>\n",
              "      <td>2014-01-01</td>\n",
              "      <td>2014.0</td>\n",
              "      <td>69</td>\n",
              "      <td>54</td>\n",
              "      <td>39</td>\n",
              "      <td>68</td>\n",
              "      <td>4</td>\n",
              "    </tr>\n",
              "    <tr>\n",
              "      <th>9</th>\n",
              "      <td>RAPE</td>\n",
              "      <td>2014-01-01</td>\n",
              "      <td>2014.0</td>\n",
              "      <td>69</td>\n",
              "      <td>54</td>\n",
              "      <td>39</td>\n",
              "      <td>68</td>\n",
              "      <td>4</td>\n",
              "    </tr>\n",
              "    <tr>\n",
              "      <th>10</th>\n",
              "      <td>THEFT</td>\n",
              "      <td>2014-01-01</td>\n",
              "      <td>2014.0</td>\n",
              "      <td>69</td>\n",
              "      <td>54</td>\n",
              "      <td>39</td>\n",
              "      <td>68</td>\n",
              "      <td>4</td>\n",
              "    </tr>\n",
              "    <tr>\n",
              "      <th>11</th>\n",
              "      <td>THEFT</td>\n",
              "      <td>2014-01-01</td>\n",
              "      <td>2014.0</td>\n",
              "      <td>69</td>\n",
              "      <td>54</td>\n",
              "      <td>39</td>\n",
              "      <td>68</td>\n",
              "      <td>4</td>\n",
              "    </tr>\n",
              "    <tr>\n",
              "      <th>12</th>\n",
              "      <td>AGG ASSAULT FAM/DATE VIOLENCE</td>\n",
              "      <td>2014-01-01</td>\n",
              "      <td>2014.0</td>\n",
              "      <td>69</td>\n",
              "      <td>54</td>\n",
              "      <td>39</td>\n",
              "      <td>68</td>\n",
              "      <td>4</td>\n",
              "    </tr>\n",
              "    <tr>\n",
              "      <th>13</th>\n",
              "      <td>THEFT BY SHOPLIFTING</td>\n",
              "      <td>2014-01-01</td>\n",
              "      <td>2014.0</td>\n",
              "      <td>69</td>\n",
              "      <td>54</td>\n",
              "      <td>39</td>\n",
              "      <td>68</td>\n",
              "      <td>4</td>\n",
              "    </tr>\n",
              "    <tr>\n",
              "      <th>14</th>\n",
              "      <td>THEFT</td>\n",
              "      <td>2014-01-01</td>\n",
              "      <td>2014.0</td>\n",
              "      <td>69</td>\n",
              "      <td>54</td>\n",
              "      <td>39</td>\n",
              "      <td>68</td>\n",
              "      <td>4</td>\n",
              "    </tr>\n",
              "    <tr>\n",
              "      <th>15</th>\n",
              "      <td>THEFT</td>\n",
              "      <td>2014-01-01</td>\n",
              "      <td>2014.0</td>\n",
              "      <td>69</td>\n",
              "      <td>54</td>\n",
              "      <td>39</td>\n",
              "      <td>68</td>\n",
              "      <td>4</td>\n",
              "    </tr>\n",
              "    <tr>\n",
              "      <th>16</th>\n",
              "      <td>BURGLARY OF VEHICLE</td>\n",
              "      <td>2014-01-01</td>\n",
              "      <td>2014.0</td>\n",
              "      <td>69</td>\n",
              "      <td>54</td>\n",
              "      <td>39</td>\n",
              "      <td>68</td>\n",
              "      <td>4</td>\n",
              "    </tr>\n",
              "    <tr>\n",
              "      <th>17</th>\n",
              "      <td>BURGLARY OF VEHICLE</td>\n",
              "      <td>2014-01-01</td>\n",
              "      <td>2014.0</td>\n",
              "      <td>69</td>\n",
              "      <td>54</td>\n",
              "      <td>39</td>\n",
              "      <td>68</td>\n",
              "      <td>4</td>\n",
              "    </tr>\n",
              "    <tr>\n",
              "      <th>18</th>\n",
              "      <td>BURGLARY OF VEHICLE</td>\n",
              "      <td>2014-01-01</td>\n",
              "      <td>2014.0</td>\n",
              "      <td>69</td>\n",
              "      <td>54</td>\n",
              "      <td>39</td>\n",
              "      <td>68</td>\n",
              "      <td>4</td>\n",
              "    </tr>\n",
              "    <tr>\n",
              "      <th>19</th>\n",
              "      <td>BURGLARY OF VEHICLE</td>\n",
              "      <td>2014-01-01</td>\n",
              "      <td>2014.0</td>\n",
              "      <td>69</td>\n",
              "      <td>54</td>\n",
              "      <td>39</td>\n",
              "      <td>68</td>\n",
              "      <td>4</td>\n",
              "    </tr>\n",
              "    <tr>\n",
              "      <th>20</th>\n",
              "      <td>THEFT</td>\n",
              "      <td>2014-01-01</td>\n",
              "      <td>2014.0</td>\n",
              "      <td>69</td>\n",
              "      <td>54</td>\n",
              "      <td>39</td>\n",
              "      <td>68</td>\n",
              "      <td>4</td>\n",
              "    </tr>\n",
              "    <tr>\n",
              "      <th>21</th>\n",
              "      <td>AUTO THEFT</td>\n",
              "      <td>2014-01-01</td>\n",
              "      <td>2014.0</td>\n",
              "      <td>69</td>\n",
              "      <td>54</td>\n",
              "      <td>39</td>\n",
              "      <td>68</td>\n",
              "      <td>4</td>\n",
              "    </tr>\n",
              "    <tr>\n",
              "      <th>22</th>\n",
              "      <td>ROBBERY BY ASSAULT</td>\n",
              "      <td>2014-01-01</td>\n",
              "      <td>2014.0</td>\n",
              "      <td>69</td>\n",
              "      <td>54</td>\n",
              "      <td>39</td>\n",
              "      <td>68</td>\n",
              "      <td>4</td>\n",
              "    </tr>\n",
              "    <tr>\n",
              "      <th>23</th>\n",
              "      <td>THEFT</td>\n",
              "      <td>2014-01-01</td>\n",
              "      <td>2014.0</td>\n",
              "      <td>69</td>\n",
              "      <td>54</td>\n",
              "      <td>39</td>\n",
              "      <td>68</td>\n",
              "      <td>4</td>\n",
              "    </tr>\n",
              "    <tr>\n",
              "      <th>24</th>\n",
              "      <td>BURGLARY OF VEHICLE</td>\n",
              "      <td>2014-01-01</td>\n",
              "      <td>2014.0</td>\n",
              "      <td>69</td>\n",
              "      <td>54</td>\n",
              "      <td>39</td>\n",
              "      <td>68</td>\n",
              "      <td>4</td>\n",
              "    </tr>\n",
              "    <tr>\n",
              "      <th>25</th>\n",
              "      <td>BURGLARY OF VEHICLE</td>\n",
              "      <td>2014-01-01</td>\n",
              "      <td>2014.0</td>\n",
              "      <td>69</td>\n",
              "      <td>54</td>\n",
              "      <td>39</td>\n",
              "      <td>68</td>\n",
              "      <td>4</td>\n",
              "    </tr>\n",
              "    <tr>\n",
              "      <th>26</th>\n",
              "      <td>AGG ASSAULT</td>\n",
              "      <td>2014-01-01</td>\n",
              "      <td>2014.0</td>\n",
              "      <td>69</td>\n",
              "      <td>54</td>\n",
              "      <td>39</td>\n",
              "      <td>68</td>\n",
              "      <td>4</td>\n",
              "    </tr>\n",
              "    <tr>\n",
              "      <th>27</th>\n",
              "      <td>BURGLARY OF VEHICLE</td>\n",
              "      <td>2014-01-01</td>\n",
              "      <td>2014.0</td>\n",
              "      <td>69</td>\n",
              "      <td>54</td>\n",
              "      <td>39</td>\n",
              "      <td>68</td>\n",
              "      <td>4</td>\n",
              "    </tr>\n",
              "    <tr>\n",
              "      <th>28</th>\n",
              "      <td>AUTO THEFT</td>\n",
              "      <td>2014-01-01</td>\n",
              "      <td>2014.0</td>\n",
              "      <td>69</td>\n",
              "      <td>54</td>\n",
              "      <td>39</td>\n",
              "      <td>68</td>\n",
              "      <td>4</td>\n",
              "    </tr>\n",
              "    <tr>\n",
              "      <th>29</th>\n",
              "      <td>AGG ASLT STRANGLE/SUFFOCATE</td>\n",
              "      <td>2014-01-01</td>\n",
              "      <td>2014.0</td>\n",
              "      <td>69</td>\n",
              "      <td>54</td>\n",
              "      <td>39</td>\n",
              "      <td>68</td>\n",
              "      <td>4</td>\n",
              "    </tr>\n",
              "    <tr>\n",
              "      <th>...</th>\n",
              "      <td>...</td>\n",
              "      <td>...</td>\n",
              "      <td>...</td>\n",
              "      <td>...</td>\n",
              "      <td>...</td>\n",
              "      <td>...</td>\n",
              "      <td>...</td>\n",
              "      <td>...</td>\n",
              "    </tr>\n",
              "    <tr>\n",
              "      <th>9970</th>\n",
              "      <td>THEFT</td>\n",
              "      <td>2014-04-27</td>\n",
              "      <td>2014.0</td>\n",
              "      <td>96</td>\n",
              "      <td>85</td>\n",
              "      <td>73</td>\n",
              "      <td>51</td>\n",
              "      <td>6</td>\n",
              "    </tr>\n",
              "    <tr>\n",
              "      <th>9971</th>\n",
              "      <td>THEFT</td>\n",
              "      <td>2014-04-27</td>\n",
              "      <td>2014.0</td>\n",
              "      <td>96</td>\n",
              "      <td>85</td>\n",
              "      <td>73</td>\n",
              "      <td>51</td>\n",
              "      <td>6</td>\n",
              "    </tr>\n",
              "    <tr>\n",
              "      <th>9972</th>\n",
              "      <td>ROBBERY BY THREAT</td>\n",
              "      <td>2014-04-27</td>\n",
              "      <td>2014.0</td>\n",
              "      <td>96</td>\n",
              "      <td>85</td>\n",
              "      <td>73</td>\n",
              "      <td>51</td>\n",
              "      <td>6</td>\n",
              "    </tr>\n",
              "    <tr>\n",
              "      <th>9973</th>\n",
              "      <td>THEFT</td>\n",
              "      <td>2014-04-27</td>\n",
              "      <td>2014.0</td>\n",
              "      <td>96</td>\n",
              "      <td>85</td>\n",
              "      <td>73</td>\n",
              "      <td>51</td>\n",
              "      <td>6</td>\n",
              "    </tr>\n",
              "    <tr>\n",
              "      <th>9974</th>\n",
              "      <td>BURGLARY OF VEHICLE</td>\n",
              "      <td>2014-04-27</td>\n",
              "      <td>2014.0</td>\n",
              "      <td>96</td>\n",
              "      <td>85</td>\n",
              "      <td>73</td>\n",
              "      <td>51</td>\n",
              "      <td>6</td>\n",
              "    </tr>\n",
              "    <tr>\n",
              "      <th>9975</th>\n",
              "      <td>BURGLARY OF VEHICLE</td>\n",
              "      <td>2014-04-27</td>\n",
              "      <td>2014.0</td>\n",
              "      <td>96</td>\n",
              "      <td>85</td>\n",
              "      <td>73</td>\n",
              "      <td>51</td>\n",
              "      <td>6</td>\n",
              "    </tr>\n",
              "    <tr>\n",
              "      <th>9976</th>\n",
              "      <td>AUTO THEFT</td>\n",
              "      <td>2014-04-27</td>\n",
              "      <td>2014.0</td>\n",
              "      <td>96</td>\n",
              "      <td>85</td>\n",
              "      <td>73</td>\n",
              "      <td>51</td>\n",
              "      <td>6</td>\n",
              "    </tr>\n",
              "    <tr>\n",
              "      <th>9977</th>\n",
              "      <td>THEFT FROM PERSON</td>\n",
              "      <td>2014-04-27</td>\n",
              "      <td>2014.0</td>\n",
              "      <td>96</td>\n",
              "      <td>85</td>\n",
              "      <td>73</td>\n",
              "      <td>51</td>\n",
              "      <td>6</td>\n",
              "    </tr>\n",
              "    <tr>\n",
              "      <th>9978</th>\n",
              "      <td>BURGLARY OF VEHICLE</td>\n",
              "      <td>2014-04-27</td>\n",
              "      <td>2014.0</td>\n",
              "      <td>96</td>\n",
              "      <td>85</td>\n",
              "      <td>73</td>\n",
              "      <td>51</td>\n",
              "      <td>6</td>\n",
              "    </tr>\n",
              "    <tr>\n",
              "      <th>9979</th>\n",
              "      <td>BURGLARY OF VEHICLE</td>\n",
              "      <td>2014-04-27</td>\n",
              "      <td>2014.0</td>\n",
              "      <td>96</td>\n",
              "      <td>85</td>\n",
              "      <td>73</td>\n",
              "      <td>51</td>\n",
              "      <td>6</td>\n",
              "    </tr>\n",
              "    <tr>\n",
              "      <th>9980</th>\n",
              "      <td>AUTO THEFT</td>\n",
              "      <td>2014-04-27</td>\n",
              "      <td>2014.0</td>\n",
              "      <td>96</td>\n",
              "      <td>85</td>\n",
              "      <td>73</td>\n",
              "      <td>51</td>\n",
              "      <td>6</td>\n",
              "    </tr>\n",
              "    <tr>\n",
              "      <th>9981</th>\n",
              "      <td>THEFT</td>\n",
              "      <td>2014-04-27</td>\n",
              "      <td>2014.0</td>\n",
              "      <td>96</td>\n",
              "      <td>85</td>\n",
              "      <td>73</td>\n",
              "      <td>51</td>\n",
              "      <td>6</td>\n",
              "    </tr>\n",
              "    <tr>\n",
              "      <th>9982</th>\n",
              "      <td>AGG ASLT ENHANC STRANGL/SUFFOC</td>\n",
              "      <td>2014-04-27</td>\n",
              "      <td>2014.0</td>\n",
              "      <td>96</td>\n",
              "      <td>85</td>\n",
              "      <td>73</td>\n",
              "      <td>51</td>\n",
              "      <td>6</td>\n",
              "    </tr>\n",
              "    <tr>\n",
              "      <th>9983</th>\n",
              "      <td>THEFT FROM BUILDING</td>\n",
              "      <td>2014-04-27</td>\n",
              "      <td>2014.0</td>\n",
              "      <td>96</td>\n",
              "      <td>85</td>\n",
              "      <td>73</td>\n",
              "      <td>51</td>\n",
              "      <td>6</td>\n",
              "    </tr>\n",
              "    <tr>\n",
              "      <th>9984</th>\n",
              "      <td>THEFT</td>\n",
              "      <td>2014-04-27</td>\n",
              "      <td>2014.0</td>\n",
              "      <td>96</td>\n",
              "      <td>85</td>\n",
              "      <td>73</td>\n",
              "      <td>51</td>\n",
              "      <td>6</td>\n",
              "    </tr>\n",
              "    <tr>\n",
              "      <th>9985</th>\n",
              "      <td>THEFT</td>\n",
              "      <td>2014-04-27</td>\n",
              "      <td>2014.0</td>\n",
              "      <td>96</td>\n",
              "      <td>85</td>\n",
              "      <td>73</td>\n",
              "      <td>51</td>\n",
              "      <td>6</td>\n",
              "    </tr>\n",
              "    <tr>\n",
              "      <th>9986</th>\n",
              "      <td>BURGLARY OF VEHICLE</td>\n",
              "      <td>2014-04-27</td>\n",
              "      <td>2014.0</td>\n",
              "      <td>96</td>\n",
              "      <td>85</td>\n",
              "      <td>73</td>\n",
              "      <td>51</td>\n",
              "      <td>6</td>\n",
              "    </tr>\n",
              "    <tr>\n",
              "      <th>9987</th>\n",
              "      <td>BURGLARY OF VEHICLE</td>\n",
              "      <td>2014-04-27</td>\n",
              "      <td>2014.0</td>\n",
              "      <td>96</td>\n",
              "      <td>85</td>\n",
              "      <td>73</td>\n",
              "      <td>51</td>\n",
              "      <td>6</td>\n",
              "    </tr>\n",
              "    <tr>\n",
              "      <th>9988</th>\n",
              "      <td>THEFT OF BICYCLE</td>\n",
              "      <td>2014-04-27</td>\n",
              "      <td>2014.0</td>\n",
              "      <td>96</td>\n",
              "      <td>85</td>\n",
              "      <td>73</td>\n",
              "      <td>51</td>\n",
              "      <td>6</td>\n",
              "    </tr>\n",
              "    <tr>\n",
              "      <th>9989</th>\n",
              "      <td>BURGLARY OF COIN-OP MACHINE</td>\n",
              "      <td>2014-04-27</td>\n",
              "      <td>2014.0</td>\n",
              "      <td>96</td>\n",
              "      <td>85</td>\n",
              "      <td>73</td>\n",
              "      <td>51</td>\n",
              "      <td>6</td>\n",
              "    </tr>\n",
              "    <tr>\n",
              "      <th>9990</th>\n",
              "      <td>AUTO THEFT</td>\n",
              "      <td>2014-04-27</td>\n",
              "      <td>2014.0</td>\n",
              "      <td>96</td>\n",
              "      <td>85</td>\n",
              "      <td>73</td>\n",
              "      <td>51</td>\n",
              "      <td>6</td>\n",
              "    </tr>\n",
              "    <tr>\n",
              "      <th>9991</th>\n",
              "      <td>AGG ASLT ENHANC STRANGL/SUFFOC</td>\n",
              "      <td>2014-04-27</td>\n",
              "      <td>2014.0</td>\n",
              "      <td>96</td>\n",
              "      <td>85</td>\n",
              "      <td>73</td>\n",
              "      <td>51</td>\n",
              "      <td>6</td>\n",
              "    </tr>\n",
              "    <tr>\n",
              "      <th>9992</th>\n",
              "      <td>AGG ASSAULT FAM/DATE VIOLENCE</td>\n",
              "      <td>2014-04-27</td>\n",
              "      <td>2014.0</td>\n",
              "      <td>96</td>\n",
              "      <td>85</td>\n",
              "      <td>73</td>\n",
              "      <td>51</td>\n",
              "      <td>6</td>\n",
              "    </tr>\n",
              "    <tr>\n",
              "      <th>9993</th>\n",
              "      <td>THEFT</td>\n",
              "      <td>2014-04-27</td>\n",
              "      <td>2014.0</td>\n",
              "      <td>96</td>\n",
              "      <td>85</td>\n",
              "      <td>73</td>\n",
              "      <td>51</td>\n",
              "      <td>6</td>\n",
              "    </tr>\n",
              "    <tr>\n",
              "      <th>9994</th>\n",
              "      <td>THEFT</td>\n",
              "      <td>2014-04-27</td>\n",
              "      <td>2014.0</td>\n",
              "      <td>96</td>\n",
              "      <td>85</td>\n",
              "      <td>73</td>\n",
              "      <td>51</td>\n",
              "      <td>6</td>\n",
              "    </tr>\n",
              "    <tr>\n",
              "      <th>9995</th>\n",
              "      <td>AGG ASSAULT FAM/DATE VIOLENCE</td>\n",
              "      <td>2014-04-27</td>\n",
              "      <td>2014.0</td>\n",
              "      <td>96</td>\n",
              "      <td>85</td>\n",
              "      <td>73</td>\n",
              "      <td>51</td>\n",
              "      <td>6</td>\n",
              "    </tr>\n",
              "    <tr>\n",
              "      <th>9996</th>\n",
              "      <td>BURGLARY OF VEHICLE</td>\n",
              "      <td>2014-04-27</td>\n",
              "      <td>2014.0</td>\n",
              "      <td>96</td>\n",
              "      <td>85</td>\n",
              "      <td>73</td>\n",
              "      <td>51</td>\n",
              "      <td>6</td>\n",
              "    </tr>\n",
              "    <tr>\n",
              "      <th>9997</th>\n",
              "      <td>RAPE</td>\n",
              "      <td>2014-04-27</td>\n",
              "      <td>2014.0</td>\n",
              "      <td>96</td>\n",
              "      <td>85</td>\n",
              "      <td>73</td>\n",
              "      <td>51</td>\n",
              "      <td>6</td>\n",
              "    </tr>\n",
              "    <tr>\n",
              "      <th>9998</th>\n",
              "      <td>THEFT</td>\n",
              "      <td>2014-04-27</td>\n",
              "      <td>2014.0</td>\n",
              "      <td>96</td>\n",
              "      <td>85</td>\n",
              "      <td>73</td>\n",
              "      <td>51</td>\n",
              "      <td>6</td>\n",
              "    </tr>\n",
              "    <tr>\n",
              "      <th>9999</th>\n",
              "      <td>RAPE</td>\n",
              "      <td>2014-04-27</td>\n",
              "      <td>2014.0</td>\n",
              "      <td>96</td>\n",
              "      <td>85</td>\n",
              "      <td>73</td>\n",
              "      <td>51</td>\n",
              "      <td>6</td>\n",
              "    </tr>\n",
              "  </tbody>\n",
              "</table>\n",
              "<p>10000 rows × 8 columns</p>\n",
              "</div>"
            ],
            "text/plain": [
              "                         description        Date  ...  HumidityAvgPercent  WindAvgMPH\n",
              "0                    THEFT FROM AUTO  2014-01-01  ...                  68           4\n",
              "1                BURGLARY OF VEHICLE  2014-01-01  ...                  68           4\n",
              "2                     DEADLY CONDUCT  2014-01-01  ...                  68           4\n",
              "3                BURGLARY OF VEHICLE  2014-01-01  ...                  68           4\n",
              "4                              THEFT  2014-01-01  ...                  68           4\n",
              "5         AGG ASSAULT WITH MOTOR VEH  2014-01-01  ...                  68           4\n",
              "6                              THEFT  2014-01-01  ...                  68           4\n",
              "7                BURGLARY OF VEHICLE  2014-01-01  ...                  68           4\n",
              "8                THEFT OF AUTO PARTS  2014-01-01  ...                  68           4\n",
              "9                               RAPE  2014-01-01  ...                  68           4\n",
              "10                             THEFT  2014-01-01  ...                  68           4\n",
              "11                             THEFT  2014-01-01  ...                  68           4\n",
              "12     AGG ASSAULT FAM/DATE VIOLENCE  2014-01-01  ...                  68           4\n",
              "13              THEFT BY SHOPLIFTING  2014-01-01  ...                  68           4\n",
              "14                             THEFT  2014-01-01  ...                  68           4\n",
              "15                             THEFT  2014-01-01  ...                  68           4\n",
              "16               BURGLARY OF VEHICLE  2014-01-01  ...                  68           4\n",
              "17               BURGLARY OF VEHICLE  2014-01-01  ...                  68           4\n",
              "18               BURGLARY OF VEHICLE  2014-01-01  ...                  68           4\n",
              "19               BURGLARY OF VEHICLE  2014-01-01  ...                  68           4\n",
              "20                             THEFT  2014-01-01  ...                  68           4\n",
              "21                        AUTO THEFT  2014-01-01  ...                  68           4\n",
              "22                ROBBERY BY ASSAULT  2014-01-01  ...                  68           4\n",
              "23                             THEFT  2014-01-01  ...                  68           4\n",
              "24               BURGLARY OF VEHICLE  2014-01-01  ...                  68           4\n",
              "25               BURGLARY OF VEHICLE  2014-01-01  ...                  68           4\n",
              "26                       AGG ASSAULT  2014-01-01  ...                  68           4\n",
              "27               BURGLARY OF VEHICLE  2014-01-01  ...                  68           4\n",
              "28                        AUTO THEFT  2014-01-01  ...                  68           4\n",
              "29       AGG ASLT STRANGLE/SUFFOCATE  2014-01-01  ...                  68           4\n",
              "...                              ...         ...  ...                 ...         ...\n",
              "9970                           THEFT  2014-04-27  ...                  51           6\n",
              "9971                           THEFT  2014-04-27  ...                  51           6\n",
              "9972               ROBBERY BY THREAT  2014-04-27  ...                  51           6\n",
              "9973                           THEFT  2014-04-27  ...                  51           6\n",
              "9974             BURGLARY OF VEHICLE  2014-04-27  ...                  51           6\n",
              "9975             BURGLARY OF VEHICLE  2014-04-27  ...                  51           6\n",
              "9976                      AUTO THEFT  2014-04-27  ...                  51           6\n",
              "9977               THEFT FROM PERSON  2014-04-27  ...                  51           6\n",
              "9978             BURGLARY OF VEHICLE  2014-04-27  ...                  51           6\n",
              "9979             BURGLARY OF VEHICLE  2014-04-27  ...                  51           6\n",
              "9980                      AUTO THEFT  2014-04-27  ...                  51           6\n",
              "9981                           THEFT  2014-04-27  ...                  51           6\n",
              "9982  AGG ASLT ENHANC STRANGL/SUFFOC  2014-04-27  ...                  51           6\n",
              "9983             THEFT FROM BUILDING  2014-04-27  ...                  51           6\n",
              "9984                           THEFT  2014-04-27  ...                  51           6\n",
              "9985                           THEFT  2014-04-27  ...                  51           6\n",
              "9986             BURGLARY OF VEHICLE  2014-04-27  ...                  51           6\n",
              "9987             BURGLARY OF VEHICLE  2014-04-27  ...                  51           6\n",
              "9988                THEFT OF BICYCLE  2014-04-27  ...                  51           6\n",
              "9989     BURGLARY OF COIN-OP MACHINE  2014-04-27  ...                  51           6\n",
              "9990                      AUTO THEFT  2014-04-27  ...                  51           6\n",
              "9991  AGG ASLT ENHANC STRANGL/SUFFOC  2014-04-27  ...                  51           6\n",
              "9992   AGG ASSAULT FAM/DATE VIOLENCE  2014-04-27  ...                  51           6\n",
              "9993                           THEFT  2014-04-27  ...                  51           6\n",
              "9994                           THEFT  2014-04-27  ...                  51           6\n",
              "9995   AGG ASSAULT FAM/DATE VIOLENCE  2014-04-27  ...                  51           6\n",
              "9996             BURGLARY OF VEHICLE  2014-04-27  ...                  51           6\n",
              "9997                            RAPE  2014-04-27  ...                  51           6\n",
              "9998                           THEFT  2014-04-27  ...                  51           6\n",
              "9999                            RAPE  2014-04-27  ...                  51           6\n",
              "\n",
              "[10000 rows x 8 columns]"
            ]
          },
          "metadata": {
            "tags": []
          },
          "execution_count": 31
        }
      ]
    },
    {
      "cell_type": "code",
      "metadata": {
        "id": "OXQmUWjx6L8r",
        "colab_type": "code",
        "colab": {
          "base_uri": "https://localhost:8080/",
          "height": 34
        },
        "outputId": "08425857-d708-4576-9b39-6b79db245a1a"
      },
      "source": [
        "merged['Date'].value_counts()[:40].plot"
      ],
      "execution_count": 32,
      "outputs": [
        {
          "output_type": "execute_result",
          "data": {
            "text/plain": [
              "<pandas.plotting._core.SeriesPlotMethods object at 0x7f2664b92240>"
            ]
          },
          "metadata": {
            "tags": []
          },
          "execution_count": 32
        }
      ]
    },
    {
      "cell_type": "code",
      "metadata": {
        "id": "q2oZSg7IrjBd",
        "colab_type": "code",
        "colab": {}
      },
      "source": [
        ""
      ],
      "execution_count": 0,
      "outputs": []
    },
    {
      "cell_type": "code",
      "metadata": {
        "id": "Z9PTP_tUDuSt",
        "colab_type": "code",
        "colab": {
          "base_uri": "https://localhost:8080/",
          "height": 790
        },
        "outputId": "12a3ba87-33ee-48ac-f98c-aa2521584a45"
      },
      "source": [
        "description_values = merged['description'].value_counts()\n",
        "description_values"
      ],
      "execution_count": 33,
      "outputs": [
        {
          "output_type": "execute_result",
          "data": {
            "text/plain": [
              "THEFT                             19744\n",
              "BURGLARY OF VEHICLE               17619\n",
              "THEFT BY SHOPLIFTING               7589\n",
              "AUTO THEFT                         3797\n",
              "BURGLARY OF RESIDENCE              2925\n",
              "THEFT OF BICYCLE                   2604\n",
              "BURGLARY NON RESIDENCE             1301\n",
              "AGG ASSAULT                        1178\n",
              "THEFT FROM AUTO                    1013\n",
              "AGG ASLT STRANGLE/SUFFOCATE         988\n",
              "THEFT OF LICENSE PLATE              836\n",
              "THEFT FROM PERSON                   788\n",
              "AGG ROBBERY/DEADLY WEAPON           757\n",
              "ROBBERY BY ASSAULT                  661\n",
              "AGG ASSAULT FAM/DATE VIOLENCE       625\n",
              "RAPE                                597\n",
              "THEFT FROM BUILDING                 472\n",
              "THEFT OF AUTO PARTS                 433\n",
              "THEFT OF METAL                      383\n",
              "THEFT OF VEHICLE/OTHER              334\n",
              "BURG NON RESIDENCE SHEDS            233\n",
              "AGG ASLT ENHANC STRANGL/SUFFOC      217\n",
              "BURGLARY OF COIN-OP MACHINE         217\n",
              "DEADLY CONDUCT                      201\n",
              "AGG RAPE OF A CHILD                 169\n",
              "ROBBERY BY THREAT                   164\n",
              "BREACH OF COMPUTER SECURITY         158\n",
              "RAPE OF A CHILD                     137\n",
              "AGG ASSAULT WITH MOTOR VEH          129\n",
              "AGG ASLT W/MOTOR VEH FAM/DAT V       80\n",
              "MURDER                               39\n",
              "AGG ROBBERY BY ASSAULT               39\n",
              "AGG RAPE                             27\n",
              "AGG ASSAULT ON PUBLIC SERVANT        22\n",
              "THEFT CATALYTIC CONVERTER            22\n",
              "THEFT OF HEAVY EQUIPMENT             18\n",
              "PURSE SNATCHING                      15\n",
              "TAKE WEAPON FRM POLICE OFFICER       14\n",
              "MISAPPLY FIDUCIARY PROP              12\n",
              "CAPITAL MURDER                        7\n",
              "BURG OF RES - SEXUAL NATURE           7\n",
              "THEFT/TILL TAPPING                    6\n",
              "DEADLY CONDUCT FAM/DATE VIOL          5\n",
              "MANSLAUGHTER                          5\n",
              "AIRPORT - BREACH OF SECURITY          4\n",
              "Name: description, dtype: int64"
            ]
          },
          "metadata": {
            "tags": []
          },
          "execution_count": 33
        }
      ]
    },
    {
      "cell_type": "code",
      "metadata": {
        "id": "hZ4g-_PyJLlR",
        "colab_type": "code",
        "colab": {}
      },
      "source": [
        ""
      ],
      "execution_count": 0,
      "outputs": []
    },
    {
      "cell_type": "code",
      "metadata": {
        "id": "JvthpblPtMCq",
        "colab_type": "code",
        "outputId": "622209bc-7622-4680-cd7a-9df0057f925c",
        "colab": {
          "base_uri": "https://localhost:8080/",
          "height": 168
        }
      },
      "source": [
        "merged.isna().sum()"
      ],
      "execution_count": 34,
      "outputs": [
        {
          "output_type": "execute_result",
          "data": {
            "text/plain": [
              "description           0\n",
              "Date                  0\n",
              "year                  0\n",
              "TempHighF             0\n",
              "TempAvgF              0\n",
              "TempLowF              0\n",
              "HumidityAvgPercent    0\n",
              "WindAvgMPH            0\n",
              "dtype: int64"
            ]
          },
          "metadata": {
            "tags": []
          },
          "execution_count": 34
        }
      ]
    },
    {
      "cell_type": "code",
      "metadata": {
        "id": "PkmZgtrntlcE",
        "colab_type": "code",
        "outputId": "8c24273a-bf45-489a-cdbf-bf257da111b2",
        "colab": {
          "base_uri": "https://localhost:8080/",
          "height": 34
        }
      },
      "source": [
        "merged.shape"
      ],
      "execution_count": 35,
      "outputs": [
        {
          "output_type": "execute_result",
          "data": {
            "text/plain": [
              "(66591, 8)"
            ]
          },
          "metadata": {
            "tags": []
          },
          "execution_count": 35
        }
      ]
    },
    {
      "cell_type": "code",
      "metadata": {
        "id": "LhyrrnJ-D8jc",
        "colab_type": "code",
        "colab": {
          "base_uri": "https://localhost:8080/",
          "height": 286
        },
        "outputId": "2a2d20b7-eb8a-436a-84de-954e673ee083"
      },
      "source": [
        "import matplotlib.pyplot as plt\n"
      ],
      "execution_count": 36,
      "outputs": [
        {
          "output_type": "execute_result",
          "data": {
            "text/plain": [
              "(0, 45)"
            ]
          },
          "metadata": {
            "tags": []
          },
          "execution_count": 36
        },
        {
          "output_type": "display_data",
          "data": {
            "image/png": "[encoded data removed]",
            "text/plain": [
              "<Figure size 432x288 with 1 Axes>"
            ]
          },
          "metadata": {
            "tags": []
          }
        }
      ]
    },
    {
      "cell_type": "code",
      "metadata": {
        "id": "-e89tYOOD8oM",
        "colab_type": "code",
        "colab": {
          "base_uri": "https://localhost:8080/",
          "height": 286
        },
        "outputId": "2b6e4c86-84f2-4439-dec8-e4b180fa58f8"
      },
      "source": [
        "# from here on out, was trial and error with various plots to try and extract meaningful data \n",
        "plt.bar(merged['Date'], merged['TempAvgF'])"
      ],
      "execution_count": 37,
      "outputs": [
        {
          "output_type": "execute_result",
          "data": {
            "text/plain": [
              "<BarContainer object of 66591 artists>"
            ]
          },
          "metadata": {
            "tags": []
          },
          "execution_count": 37
        },
        {
          "output_type": "display_data",
          "data": {
            "image/png": "[encoded data removed]",
            "text/plain": [
              "<Figure size 432x288 with 1 Axes>"
            ]
          },
          "metadata": {
            "tags": []
          }
        }
      ]
    },
    {
      "cell_type": "code",
      "metadata": {
        "id": "ZSXuSuzpD8w_",
        "colab_type": "code",
        "colab": {
          "base_uri": "https://localhost:8080/",
          "height": 317
        },
        "outputId": "1492d622-7ca5-427f-e595-4bdcaf693879"
      },
      "source": [
        "plt.plot(merged['Date'], merged['TempAvgF'])\n",
        "plt.xlabel('Number of Crimes Reported Each Day Chronologically(2014-2016)')\n",
        "plt.ylabel('Average Temperature')\n",
        "plt.figure(figsize=(100,100))"
      ],
      "execution_count": 39,
      "outputs": [
        {
          "output_type": "execute_result",
          "data": {
            "text/plain": [
              "<Figure size 7200x7200 with 0 Axes>"
            ]
          },
          "metadata": {
            "tags": []
          },
          "execution_count": 39
        },
        {
          "output_type": "display_data",
          "data": {
            "image/png": "[encoded data removed]",
            "text/plain": [
              "<Figure size 432x288 with 1 Axes>"
            ]
          },
          "metadata": {
            "tags": []
          }
        },
        {
          "output_type": "display_data",
          "data": {
            "text/plain": [
              "<Figure size 7200x7200 with 0 Axes>"
            ]
          },
          "metadata": {
            "tags": []
          }
        }
      ]
    },
    {
      "cell_type": "code",
      "metadata": {
        "id": "ObRIKzkSngZJ",
        "colab_type": "code",
        "colab": {
          "base_uri": "https://localhost:8080/",
          "height": 286
        },
        "outputId": "b834add2-9c56-4794-f8e8-fabada09495e"
      },
      "source": [
        "# sorting by most high number in a day\n",
        "merged['Date'].value_counts()[:100].plot('hist')"
      ],
      "execution_count": 41,
      "outputs": [
        {
          "output_type": "execute_result",
          "data": {
            "text/plain": [
              "<matplotlib.axes._subplots.AxesSubplot at 0x7f260ea837f0>"
            ]
          },
          "metadata": {
            "tags": []
          },
          "execution_count": 41
        },
        {
          "output_type": "display_data",
          "data": {
            "image/png": "[encoded data removed]",
            "text/plain": [
              "<Figure size 432x288 with 1 Axes>"
            ]
          },
          "metadata": {
            "tags": []
          }
        }
      ]
    },
    {
      "cell_type": "code",
      "metadata": {
        "id": "mQ8pao-XuRGo",
        "colab_type": "code",
        "colab": {
          "base_uri": "https://localhost:8080/",
          "height": 286
        },
        "outputId": "ede1981d-1754-4dbb-d5a1-40479999c112"
      },
      "source": [
        "plt.scatter(merged['TempAvgF'], merged['description'] )"
      ],
      "execution_count": 42,
      "outputs": [
        {
          "output_type": "execute_result",
          "data": {
            "text/plain": [
              "<matplotlib.collections.PathCollection at 0x7f260eb61f28>"
            ]
          },
          "metadata": {
            "tags": []
          },
          "execution_count": 42
        },
        {
          "output_type": "display_data",
          "data": {
            "image/png": "[encoded data removed]",
            "text/plain": [
              "<Figure size 432x288 with 1 Axes>"
            ]
          },
          "metadata": {
            "tags": []
          }
        }
      ]
    },
    {
      "cell_type": "code",
      "metadata": {
        "id": "mFfhUUzJPb6K",
        "colab_type": "code",
        "colab": {}
      },
      "source": [
        "import pandas as pd\n",
        "import matplotlib.style as style"
      ],
      "execution_count": 0,
      "outputs": []
    },
    {
      "cell_type": "code",
      "metadata": {
        "id": "BowYNix4PcEK",
        "colab_type": "code",
        "colab": {}
      },
      "source": [
        "# making a column of random samples \n",
        "merged['random_sample'] = merged['description'].sample(n=100, random_state=1)\n"
      ],
      "execution_count": 0,
      "outputs": []
    },
    {
      "cell_type": "code",
      "metadata": {
        "id": "_7IxXVgpPcHK",
        "colab_type": "code",
        "colab": {
          "base_uri": "https://localhost:8080/",
          "height": 286
        },
        "outputId": "71c78458-47e7-4c82-f535-c403be91fa45"
      },
      "source": [
        "merged_copy = merged \n",
        "\n",
        "import random \n",
        "import numpy as np\n",
        "import matplotlib.pyplot as plt \n",
        "\n",
        "\n",
        "merged_copy = merged.iloc[np.random.choice(np.arange(len(merged)), 7000, False)]\n",
        "\n",
        "plt.scatter(merged_copy['TempAvgF'], merged_copy['Date'] )"
      ],
      "execution_count": 50,
      "outputs": [
        {
          "output_type": "execute_result",
          "data": {
            "text/plain": [
              "<matplotlib.collections.PathCollection at 0x7f260ec144a8>"
            ]
          },
          "metadata": {
            "tags": []
          },
          "execution_count": 50
        },
        {
          "output_type": "display_data",
          "data": {
            "image/png": "[encoded data removed]",
            "text/plain": [
              "<Figure size 432x288 with 1 Axes>"
            ]
          },
          "metadata": {
            "tags": []
          }
        }
      ]
    },
    {
      "cell_type": "code",
      "metadata": {
        "id": "S6uUaV-aPcJ7",
        "colab_type": "code",
        "colab": {
          "base_uri": "https://localhost:8080/",
          "height": 283
        },
        "outputId": "2ad608d5-fb8f-413f-e167-457b82be6b7a"
      },
      "source": [
        "import seaborn as sns\n",
        "\n",
        "merged_copy = merged\n",
        "# taking a random sample from the massive dataframe \n",
        "merged_copy = merged.iloc[np.random.choice(np.arange(len(merged)), 20000, False)]\n",
        "\n",
        "fig=plt.figure()\n",
        "\n",
        "\n",
        "ax = sns.scatterplot(merged_copy['TempAvgF'], merged_copy['Date'], color='red', edgecolors='black', alpha=.8)\n",
        "ax.set_yticks([])\n",
        "plt.ylabel('Days with Incidents', fontsize=11, fontweight='450')\n",
        "plt.xlabel('Average Temperature', fontsize=11, fontweight='450')\n",
        "\n",
        "fig.patch.set_facecolor('white')\n",
        "ax.set(facecolor='#e6e9ed')\n",
        "plt.show()"
      ],
      "execution_count": 51,
      "outputs": [
        {
          "output_type": "display_data",
          "data": {
            "image/png": "[encoded data removed]",
            "text/plain": [
              "<Figure size 432x288 with 1 Axes>"
            ]
          },
          "metadata": {
            "tags": []
          }
        }
      ]
    },
    {
      "cell_type": "code",
      "metadata": {
        "id": "wHQ2YLzUloHT",
        "colab_type": "code",
        "colab": {
          "base_uri": "https://localhost:8080/",
          "height": 281
        },
        "outputId": "7ad79ae1-25e3-4da8-d58a-20dfa632089c"
      },
      "source": [
        "\n",
        "style.use('fivethirtyeight')\n",
        "fig=plt.figure()\n",
        "\n",
        "ax = sns.scatterplot(merged_copy['Date'], merged_copy['TempAvgF'], color='red')\n",
        "\n",
        "plt.xlabel('Days with Incidents', fontsize=12)\n",
        "plt.ylabel('Average Temperature', fontsize=12)\n",
        "\n",
        "\n",
        "\n",
        "ax.set_xticks([])\n",
        "\n",
        "fig.patch.set_facecolor('white')\n",
        "ax.set(facecolor='#e6e9ed')\n",
        "\n",
        "plt.show()"
      ],
      "execution_count": 70,
      "outputs": [
        {
          "output_type": "display_data",
          "data": {
            "image/png": "[encoded data removed]",
            "text/plain": [
              "<Figure size 432x288 with 1 Axes>"
            ]
          },
          "metadata": {
            "tags": []
          }
        }
      ]
    },
    {
      "cell_type": "code",
      "metadata": {
        "id": "RRtiM1niLcNH",
        "colab_type": "code",
        "colab": {
          "base_uri": "https://localhost:8080/",
          "height": 351
        },
        "outputId": "11feb5bd-b914-43f0-bd1e-458ae6c7bb8a"
      },
      "source": [
        "x1 = [160, 159, 153, 152, 151, 151, 150, 148, 148, 144, 144, 143, 142, 139, 139,\n",
        "    138, 138, 138, 137, 137]    \n",
        "x2 = [66,66,64,64,63,62,62,62, 61,61,60,59,59,58,55,55,54,52, 45, 34]\n",
        "\n",
        "y1 = [88, 87, 65, 69, 77, 41, 86, 81, 86, 83, 89, 39, 76, 57, 86, 59, 88, 85, 86, 70]  \n",
        "y2 = [50, 42, 46, 83, 64, 80, 62, 62, 79, 33, 71, 51, 63, 75, 61, 68, 49, 53, 34, 49]\n",
        "\n",
        "style.use('fivethirtyeight')\n",
        "fig=plt.figure()\n",
        "\n",
        "ax = sns.scatterplot(x1, y1, color='red') \n",
        "ax = sns.scatterplot(x2, y2, color='blue')\n",
        "\n",
        "plt.xlabel('Number of Incidents', fontsize=12)\n",
        "plt.ylabel('Average Temperature(F)', fontsize=12)\n",
        "\n",
        "plt.text(x=23, y=102, s='20 Highest/Lowest Reported Crime Days', fontsize=17, fontweight='bold')\n",
        "plt.text(x=45, y=97, s='Theft Crimes(89%), Violent(7%), Other(4%)', fontsize=12)\n",
        "plt.text(x=85, y=93, s='Austin', fontsize=12)\n",
        "\n",
        "ax.axhline(y=72, color='white')\n",
        " \n",
        "\n",
        "fig.patch.set_facecolor('white')\n",
        "ax.set(facecolor='#e6e9ed')\n",
        "\n",
        "plt.show()"
      ],
      "execution_count": 66,
      "outputs": [
        {
          "output_type": "display_data",
          "data": {
            "image/png": "[encoded data removed]",
            "text/plain": [
              "<Figure size 432x288 with 1 Axes>"
            ]
          },
          "metadata": {
            "tags": []
          }
        }
      ]
    },
    {
      "cell_type": "code",
      "metadata": {
        "id": "gfLyD-ZcxfVr",
        "colab_type": "code",
        "colab": {
          "base_uri": "https://localhost:8080/",
          "height": 732
        },
        "outputId": "884f78e3-8f91-4189-e17c-976181b48554"
      },
      "source": [
        "sns.pairplot(merged)"
      ],
      "execution_count": 69,
      "outputs": [
        {
          "output_type": "execute_result",
          "data": {
            "text/plain": [
              "<seaborn.axisgrid.PairGrid at 0x7f261113a7b8>"
            ]
          },
          "metadata": {
            "tags": []
          },
          "execution_count": 69
        },
        {
          "output_type": "display_data",
          "data": {
            "image/png": "[encoded data removed]",
            "text/plain": [
              "<Figure size 720x720 with 20 Axes>"
            ]
          },
          "metadata": {
            "tags": []
          }
        }
      ]
    },
    {
      "cell_type": "code",
      "metadata": {
        "id": "Zv1vnTD9VB2F",
        "colab_type": "code",
        "colab": {}
      },
      "source": [
        ""
      ],
      "execution_count": 0,
      "outputs": []
    }
  ]
}